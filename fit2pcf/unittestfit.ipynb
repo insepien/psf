{
 "cells": [
  {
   "cell_type": "code",
   "execution_count": 1,
   "id": "77243c68",
   "metadata": {},
   "outputs": [],
   "source": [
    "import argparse\n",
    "import treegp\n",
    "import numpy as np\n",
    "import pandas as pd\n",
    "import pickle\n",
    "from datetime import datetime\n",
    "from sklearn.gaussian_process.kernels import Kernel\n",
    "import os\n",
    "import treecorr\n",
    "\n",
    "# plotting things\n",
    "import seaborn as sns\n",
    "import matplotlib.pyplot as plt\n",
    "from mpl_toolkits.axes_grid1 import make_axes_locatable\n",
    "import matplotlib.gridspec as gridspec\n",
    "\n",
    "def comp_2pcf_treecorr(x, y, k, bin_type='TwoD'):\n",
    "    \"\"\"measure the anisotropic 2pcf of some data.\"\"\"\n",
    "    cat = treecorr.Catalog(x=x, y=y, k=k, w=None)\n",
    "    kk = treecorr.KKCorrelation(min_sep=0, max_sep=0.15, nbins=17,\n",
    "                                bin_type=bin_type, bin_slop=0)\n",
    "    kk.process(cat)\n",
    "\n",
    "    return kk.xi\n",
    "\n",
    "def raw_moments(im, ordx=1, ordy=1):\n",
    "\n",
    "    posY, posX = np.indices(im.shape)\n",
    "    posY = np.flipud(posY)\n",
    "    \n",
    "    rmom = sum(sum(im*posX**ordx*posY**ordy))\n",
    "    \n",
    "    return rmom\n",
    "\n",
    "def centroids(im):\n",
    "    M10 = raw_moments(im, ordx=1, ordy=0)\n",
    "    M00 = raw_moments(im, ordx=0, ordy=0)\n",
    "    M01 = raw_moments(im, ordx=0, ordy=1)\n",
    "    xbar = M10/M00\n",
    "    ybar = M01/M00\n",
    "    return xbar, ybar\n",
    "    \n",
    "def cent_moments(im, ordx=1, ordy=1):\n",
    "    posY, posX = np.indices(im.shape)\n",
    "    posY = np.flipud(posY)\n",
    "    \n",
    "    xbar, ybar = centroids(im)\n",
    "    \n",
    "    cmom = sum(sum(im*(posX-xbar)**ordx*(posY-ybar)**ordy))\n",
    "    \n",
    "    return cmom\n",
    "\n",
    "def get_theta(g1, g2):\n",
    "    # this give theta in degrees\n",
    "    phi = np.arctan2(g2,g1)*180/np.pi\n",
    "    if g1*g2> 0:\n",
    "        #first, quadrant\n",
    "        if g1 > 0:\n",
    "            phi = phi\n",
    "        #third quadrant\n",
    "        else: \n",
    "            phi = phi+360\n",
    "    # second quadrant\n",
    "    elif g1 < 0 and g2 > 0:\n",
    "        phi = phi\n",
    "    # fouth quadrant\n",
    "    elif g1 > 0 and g2 < 0:\n",
    "        phi = phi+360 \n",
    "    theta = phi/2\n",
    "    return theta\n",
    "\n",
    "def get_orient(im):\n",
    "    xbar, ybar = centroids(im)\n",
    "    M20 = raw_moments(im, ordx=2, ordy=0)\n",
    "    M00 = raw_moments(im, ordx=0, ordy=0)\n",
    "    M02 = raw_moments(im, ordx=0, ordy=2)\n",
    "    M11 = raw_moments(im, ordx=1, ordy=1)\n",
    "    \n",
    "    mu20p = M20/M00 - xbar**2\n",
    "    mu02p = M02/M00 - ybar**2\n",
    "    mu11p = M11/M00 - xbar*ybar\n",
    "    \n",
    "    #angle in degrees\n",
    "    theta = get_theta(mu20p-mu02p,2*mu11p)\n",
    "    return theta"
   ]
  },
  {
   "cell_type": "code",
   "execution_count": 13,
   "id": "05184ffe",
   "metadata": {
    "scrolled": false
   },
   "outputs": [
    {
     "name": "stdout",
     "output_type": "stream",
     "text": [
      "seed:   169\n",
      "angle:  40.71992775069543\n"
     ]
    },
    {
     "data": {
      "image/png": "[encoded data removed]",
      "text/plain": [
       "<Figure size 432x288 with 2 Axes>"
      ]
     },
     "metadata": {
      "needs_background": "light"
     },
     "output_type": "display_data"
    }
   ],
   "source": [
    "seed = 169\n",
    "d = pickle.load(open(\"..//runsims//sameheightPsfws//outh_psfws_\"+str(seed)+\".pkl\", 'rb'))\n",
    "for k in ['e1', 'e2', 'thx', 'thy', 'sigma']:\n",
    "    locals()[k] = np.array(d[k])\n",
    "    \n",
    "d_sigma = sigma - np.mean(sigma)\n",
    "xi_dsigma  = comp_2pcf_treecorr(thx, thy, d_sigma)\n",
    "\n",
    "fig, ax = plt.subplots(1,1)\n",
    "imag = ax.imshow(xi_dsigma, \"Blues\")\n",
    "divider = make_axes_locatable(ax)\n",
    "ax_cb = divider.append_axes(\"right\", size=\"4%\")\n",
    "cbar = plt.colorbar(imag, cax=ax_cb, orientation='vertical')\n",
    "cbar.formatter.set_powerlimits((0, 0))\n",
    "ax.set_xticks(np.linspace(0,16.5,5),np.linspace(-0.75,0.75,5))\n",
    "ax.set_yticks(np.linspace(0,16.5,5),np.linspace(-0.75,0.75,5))\n",
    "print(\"seed:  \",seed)\n",
    "print(\"angle: \",get_orient(xi_dsigma))"
   ]
  },
  {
   "cell_type": "code",
   "execution_count": 6,
   "id": "d1e07773",
   "metadata": {},
   "outputs": [
    {
     "name": "stdout",
     "output_type": "stream",
     "text": [
      "seed:   153\n",
      "angle:  44.31762506298223\n"
     ]
    },
    {
     "data": {
      "image/png": "[encoded data removed]",
      "text/plain": [
       "<Figure size 432x288 with 2 Axes>"
      ]
     },
     "metadata": {
      "needs_background": "light"
     },
     "output_type": "display_data"
    }
   ],
   "source": [
    "seed = 153\n",
    "d = pickle.load(open(\"..//runsims//sameheightRand//outh_rand_\"+str(seed)+\".pkl\", 'rb'))\n",
    "for k in ['e1', 'e2', 'thx', 'thy', 'sigma']:\n",
    "    locals()[k] = np.array(d[k])\n",
    "    \n",
    "d_sigma = sigma - np.mean(sigma)\n",
    "xi_dsigma  = comp_2pcf_treecorr(thx, thy, e2)\n",
    "\n",
    "fig, ax = plt.subplots(1,1)\n",
    "imag = ax.imshow(xi_dsigma, \"Blues\")\n",
    "divider = make_axes_locatable(ax)\n",
    "ax_cb = divider.append_axes(\"right\", size=\"4%\")\n",
    "cbar = plt.colorbar(imag, cax=ax_cb, orientation='vertical')\n",
    "cbar.formatter.set_powerlimits((0, 0))\n",
    "#ax.set_xticks(np.linspace(0,16.5,5),np.linspace(-0.75,0.75,5))\n",
    "#ax.set_yticks(np.linspace(0,16.5,5),np.linspace(-0.75,0.75,5))\n",
    "print(\"seed:  \",seed)\n",
    "print(\"angle: \",get_orient(xi_dsigma))"
   ]
  },
  {
   "cell_type": "code",
   "execution_count": 93,
   "id": "b06c41cc",
   "metadata": {},
   "outputs": [],
   "source": [
    "im = xi_dsigma\n",
    "xbar, ybar = centroids(im)\n",
    "M20 = raw_moments(im, ordx=2, ordy=0)\n",
    "M00 = raw_moments(im, ordx=0, ordy=0)\n",
    "M02 = raw_moments(im, ordx=0, ordy=2)\n",
    "M11 = raw_moments(im, ordx=1, ordy=1)\n",
    "\n",
    "mu20p = M20/M00 - xbar**2\n",
    "mu02p = M02/M00 - ybar**2\n",
    "mu11p = M11/M00 - xbar*ybar\n"
   ]
  },
  {
   "cell_type": "code",
   "execution_count": 94,
   "id": "2d87bca1",
   "metadata": {},
   "outputs": [
    {
     "data": {
      "text/plain": [
       "2.0132039033235145"
      ]
     },
     "execution_count": 94,
     "metadata": {},
     "output_type": "execute_result"
    }
   ],
   "source": [
    "2*mu11p"
   ]
  },
  {
   "cell_type": "code",
   "execution_count": 95,
   "id": "342548f4",
   "metadata": {},
   "outputs": [
    {
     "data": {
      "text/plain": [
       "0.9624259466628189"
      ]
     },
     "execution_count": 95,
     "metadata": {},
     "output_type": "execute_result"
    }
   ],
   "source": [
    "mu20p-mu02p"
   ]
  },
  {
   "cell_type": "code",
   "execution_count": 7,
   "id": "404f63dc",
   "metadata": {},
   "outputs": [
    {
     "data": {
      "text/plain": [
       "1.5529746951385437"
      ]
     },
     "execution_count": 7,
     "metadata": {},
     "output_type": "execute_result"
    }
   ],
   "source": [
    "M11"
   ]
  },
  {
   "cell_type": "code",
   "execution_count": 38,
   "id": "06371ed4",
   "metadata": {},
   "outputs": [
    {
     "data": {
      "text/plain": [
       "169.6250114055829"
      ]
     },
     "execution_count": 38,
     "metadata": {},
     "output_type": "execute_result"
    }
   ],
   "source": [
    "-np.arctan2(2*mu11p,(mu20p-mu02p))*180/np.pi"
   ]
  },
  {
   "cell_type": "code",
   "execution_count": 64,
   "id": "a3b224b9",
   "metadata": {},
   "outputs": [
    {
     "data": {
      "text/plain": [
       "190.37498859441732"
      ]
     },
     "execution_count": 64,
     "metadata": {},
     "output_type": "execute_result"
    }
   ],
   "source": [
    "np.arctan2(2*mu11p,(mu20p-mu02p))*180/np.pi+360"
   ]
  },
  {
   "cell_type": "code",
   "execution_count": 55,
   "id": "939a0491",
   "metadata": {},
   "outputs": [
    {
     "data": {
      "text/plain": [
       "95.18749429720899"
      ]
     },
     "execution_count": 55,
     "metadata": {},
     "output_type": "execute_result"
    }
   ],
   "source": [
    "np.arctan2(2*mu11p,(mu20p-mu02p))*180/np.pi/2+180"
   ]
  },
  {
   "cell_type": "code",
   "execution_count": 11,
   "id": "84dd1f27",
   "metadata": {},
   "outputs": [
    {
     "data": {
      "text/plain": [
       "17.06081451191006"
      ]
     },
     "execution_count": 11,
     "metadata": {},
     "output_type": "execute_result"
    }
   ],
   "source": [
    "get_theta(mu20p-mu02p, 2*mu11p)"
   ]
  },
  {
   "cell_type": "code",
   "execution_count": 12,
   "id": "6eb4bd1d",
   "metadata": {},
   "outputs": [
    {
     "name": "stdout",
     "output_type": "stream",
     "text": [
      "45.0\n",
      "135.0\n",
      "-135.0\n",
      "-45.0\n"
     ]
    }
   ],
   "source": [
    "print(np.arctan2(0.5,0.5)*180/np.pi)\n",
    "print(np.arctan2(0.5,-0.5)*180/np.pi)\n",
    "print(np.arctan2(-0.5,-0.5)*180/np.pi)\n",
    "print(np.arctan2(-0.5,0.5)*180/np.pi)\n"
   ]
  },
  {
   "cell_type": "code",
   "execution_count": 13,
   "id": "4f7c048e",
   "metadata": {},
   "outputs": [
    {
     "name": "stdout",
     "output_type": "stream",
     "text": [
      "45.0\n",
      "315.0\n",
      "315.0\n",
      "135.0\n"
     ]
    }
   ],
   "source": [
    "print(get_theta(0.5,0.5)*2)\n",
    "print(get_theta(0.5,-0.5)*2)\n",
    "print(get_theta(-0.5,-0.5)*2)\n",
    "print(get_theta(-0.5,0.5)*2)"
   ]
  },
  {
   "cell_type": "code",
   "execution_count": null,
   "id": "b38df9f6",
   "metadata": {},
   "outputs": [],
   "source": []
  }
 ],
 "metadata": {
  "kernelspec": {
   "display_name": "Python 3 (ipykernel)",
   "language": "python",
   "name": "python3"
  },
  "language_info": {
   "codemirror_mode": {
    "name": "ipython",
    "version": 3
   },
   "file_extension": ".py",
   "mimetype": "text/x-python",
   "name": "python",
   "nbconvert_exporter": "python",
   "pygments_lexer": "ipython3",
   "version": "3.10.4"
  }
 },
 "nbformat": 4,
 "nbformat_minor": 5
}
