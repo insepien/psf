{
 "cells": [
  {
   "cell_type": "code",
   "execution_count": 1,
   "id": "3f5fe2a8",
   "metadata": {},
   "outputs": [],
   "source": [
    "import psfws\n",
    "import matplotlib.pyplot as plt\n",
    "import numpy as np\n",
    "import galsim\n",
    "import pickle\n",
    "import pandas as pd\n"
   ]
  },
  {
   "cell_type": "code",
   "execution_count": 2,
   "id": "058da55b",
   "metadata": {},
   "outputs": [],
   "source": [
    "seeds = list(range(6, 11)) + [22, 23, 25, 26, 27] + list(range(30, 40))\n",
    "seeds += list(range(42, 171))\n",
    "\n",
    "def get_maxSpd_profile(seeds):\n",
    "    \"\"\"gets the max ground speed and max free atm speed for a profile of simulations\"\"\"\n",
    "    grdSpeedPsfws = np.zeros(len(seeds))\n",
    "    f_atmspeedPsfws = np.zeros(len(seeds), dtype=\"object\")\n",
    "    for i in range(len(seeds)):\n",
    "        ws = psfws.ParameterGenerator(seed=seeds[i])\n",
    "        params= ws.draw_parameters(nl=6, location='com')\n",
    "        grdSpeedPsfws[i] = params['speed'][0]\n",
    "        f_atmspeedPsfws[i] = params['speed'][1:]\n",
    "    rand_maxGround = np.max(grdSpeedPsfws)    \n",
    "    rand_maxFree_atm = np.max([np.max(f_atmspeedPsfws[i]) for i in range(len(f_atmspeedPsfws))])   \n",
    "    return rand_maxGround, rand_maxFree_atm\n",
    "\n",
    "\n",
    "def gen_randSpd(seeds, rand_maxGround, rand_maxFree_atm):\n",
    "    \"generate random speeds with max profile speeds\"\n",
    "    grSpdsR = {}\n",
    "    atmSpdsR = {}\n",
    "    for seed in seeds:\n",
    "        rng = galsim.BaseDeviate(seed)\n",
    "        ud = galsim.UniformDeviate(rng)\n",
    "        grSpdsR[seed] = ud() * rand_maxGround\n",
    "        atmSpdsR[seed] = [ud() * rand_maxFree_atm for _ in range(5)]\n",
    "    return grSpdsR, atmSpdsR\n",
    "\n",
    "\n",
    "def plothist(ax,para,bs, lbl=\"\"):\n",
    "    \"\"\"plot histogram of para as points with poisson uncertainty\"\"\"\n",
    "    ax.hist(para, bins=bs, histtype='step', color=\"salmon\")\n",
    "    return ax"
   ]
  },
  {
   "cell_type": "code",
   "execution_count": 3,
   "id": "d0c8d065",
   "metadata": {},
   "outputs": [],
   "source": [
    "# LOADING DATA\n",
    "f_atm = [\"atm_summary_psfws_df.p\", \"atm_summary_rand_df.p\", \"atm_summary_randMatch_df.p\"]\n",
    "atm_psfws, atm_rand, atm_randMatch = [pickle.load(open(\"validate-psfws/summariesCircle/\"+f_atm[i], \"rb\")) for i in range(3)]\n",
    "\n",
    "for atm in [atm_psfws, atm_rand, atm_randMatch]:\n",
    "    atm['dir_0'] = [atm['direction'].iloc[i][0].deg%180 for i in range(len(atm))]\n",
    "    atm['spd_0'] = [atm['speed'].iloc[i][0] for i in range(len(atm))]\n",
    "    atm['spd_atm'] = [atm['speed'].iloc[i][1:] for i in range(len(atm))]\n"
   ]
  },
  {
   "cell_type": "code",
   "execution_count": 4,
   "id": "2403dc62",
   "metadata": {},
   "outputs": [],
   "source": [
    "# get forecast data\n",
    "seed = 9283456\n",
    "ws = psfws.ParameterGenerator(seed=seed)\n",
    "data_fa = ws.__getattribute__(\"data_fa\")\n",
    "\n",
    "\n",
    "\n",
    "# add date time to psfws sim stats df\n",
    "time = [data_fa.index[i] for i in range(len(data_fa))]\n",
    "speeds = {}\n",
    "for i in range(len(data_fa)):\n",
    "    speeds[time[i]] = ws.get_parameters(time[i],nl=6, location=\"com\")['speed']\n",
    "\n",
    "dt = []\n",
    "for i in range(len(atm_psfws)):\n",
    "    for j in range(len(time)):\n",
    "        if all(atm_psfws[\"speed\"].iloc[i] == speeds[time[j]]):\n",
    "            dt.append(time[j])\n",
    "atm_psfws['datetime'] = dt\n"
   ]
  },
  {
   "cell_type": "code",
   "execution_count": 5,
   "id": "826123a3",
   "metadata": {},
   "outputs": [
    {
     "data": {
      "text/plain": [
       "''"
      ]
     },
     "execution_count": 5,
     "metadata": {},
     "output_type": "execute_result"
    },
    {
     "data": {
      "image/png": "[encoded data removed]",
      "text/plain": [
       "<Figure size 1080x288 with 3 Axes>"
      ]
     },
     "metadata": {
      "needs_background": "light"
     },
     "output_type": "display_data"
    }
   ],
   "source": [
    "# plotting\n",
    "fig,ax = plt.subplots(1,3,figsize=(15,4))\n",
    "ax[0] = plothist(ax[0], [dt[i].month for i in range(len(dt))],np.arange(1,13))\n",
    "ax[0].set_xticks(np.arange(1,13,2))\n",
    "ax[0].set_xlabel(\"Month\")\n",
    "\n",
    "ax[1] = plothist(ax[1], [dt[i].day for i in range(len(dt))],np.arange(1,32))\n",
    "ax[1].set_xticks(np.arange(1,32,5))\n",
    "ax[1].set_xlabel(\"Date\")\n",
    "\n",
    "ax[2] = plothist(ax[2], [dt[i].hour for i in range(len(dt))],np.arange(0,25))\n",
    "ax[2].set_xticks(np.arange(0,25,5))\n",
    "ax[2].set_xlabel(\"Hour (UTC)\")\n",
    "\n",
    "fig.suptitle(\"Date time distribution of psfws simulations\")\n",
    "fig.tight_layout()\n",
    ";"
   ]
  },
  {
   "cell_type": "code",
   "execution_count": 6,
   "id": "0bbeb04c",
   "metadata": {},
   "outputs": [
    {
     "name": "stdout",
     "output_type": "stream",
     "text": [
      "Velocity in in simulation on sherlock \n"
     ]
    },
    {
     "data": {
      "text/plain": [
       "array([ 6.65      , 25.85109833, 52.27451174, 44.96287784, 18.76973346,\n",
       "       13.92689783])"
      ]
     },
     "execution_count": 6,
     "metadata": {},
     "output_type": "execute_result"
    }
   ],
   "source": [
    "print(\"Velocity in in simulation on sherlock \")\n",
    "atm_psfws[[\"speed\",\"datetime\"]].iloc[39]['speed']"
   ]
  },
  {
   "cell_type": "code",
   "execution_count": 7,
   "id": "42dc6176",
   "metadata": {},
   "outputs": [
    {
     "name": "stdout",
     "output_type": "stream",
     "text": [
      "Velocity with draw method, seed=61\n"
     ]
    },
    {
     "data": {
      "text/plain": [
       "array([ 5.        ,  9.86395416, 22.726852  , 33.79542207, 15.69124837,\n",
       "       11.42964904])"
      ]
     },
     "execution_count": 7,
     "metadata": {},
     "output_type": "execute_result"
    }
   ],
   "source": [
    "print(\"Velocity with draw method, seed=61\")\n",
    "ws = psfws.ParameterGenerator(61)\n",
    "ws.draw_parameters(nl=6,location=\"com\")['speed']\n"
   ]
  },
  {
   "cell_type": "code",
   "execution_count": 2,
   "id": "1aebd395",
   "metadata": {},
   "outputs": [
    {
     "name": "stdout",
     "output_type": "stream",
     "text": [
      "Velocity with get method, seed=61\n"
     ]
    },
    {
     "data": {
      "text/plain": [
       "array([ 6.65      , 26.16756335, 60.19290877, 45.18959335, 19.04753162,\n",
       "       14.21183323])"
      ]
     },
     "execution_count": 2,
     "metadata": {},
     "output_type": "execute_result"
    }
   ],
   "source": [
    "print(\"Velocity with get method, seed=61\")\n",
    "ws = psfws.ParameterGenerator(61)\n",
    "ws.get_parameters('2019-06-01 06:00:00+00:00',nl=6)['speed']"
   ]
  },
  {
   "cell_type": "code",
   "execution_count": 4,
   "id": "22a27c32",
   "metadata": {},
   "outputs": [
    {
     "data": {
      "text/plain": [
       "Timestamp('2019-06-01 06:00:00+0000', tz='UTC')"
      ]
     },
     "execution_count": 4,
     "metadata": {},
     "output_type": "execute_result"
    }
   ],
   "source": [
    "ws.draw_datapoint()"
   ]
  },
  {
   "cell_type": "code",
   "execution_count": 5,
   "id": "6c055fd3",
   "metadata": {},
   "outputs": [
    {
     "data": {
      "text/plain": [
       "<psfws.gen_params.ParameterGenerator at 0x7f86e8379a20>"
      ]
     },
     "execution_count": 5,
     "metadata": {},
     "output_type": "execute_result"
    }
   ],
   "source": [
    "ws."
   ]
  },
  {
   "cell_type": "code",
   "execution_count": null,
   "id": "92a8a932",
   "metadata": {},
   "outputs": [],
   "source": []
  }
 ],
 "metadata": {
  "kernelspec": {
   "display_name": "Python 3 (ipykernel)",
   "language": "python",
   "name": "python3"
  },
  "language_info": {
   "codemirror_mode": {
    "name": "ipython",
    "version": 3
   },
   "file_extension": ".py",
   "mimetype": "text/x-python",
   "name": "python",
   "nbconvert_exporter": "python",
   "pygments_lexer": "ipython3",
   "version": "3.10.4"
  }
 },
 "nbformat": 4,
 "nbformat_minor": 5
}
