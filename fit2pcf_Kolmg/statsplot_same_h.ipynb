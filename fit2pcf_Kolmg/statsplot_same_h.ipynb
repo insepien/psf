{
 "cells": [
  {
   "cell_type": "markdown",
   "id": "939ec59b",
   "metadata": {},
   "source": [
    "# notes\n",
    "- this notebook plots the correlation func of sigma, e1,e2 as function of separation\n",
    "- same heights.\n",
    "- pkl dir: heightPsfws, heightRand"
   ]
  },
  {
   "cell_type": "code",
   "execution_count": 141,
   "id": "75664e33",
   "metadata": {},
   "outputs": [],
   "source": [
    "import psfws\n",
    "import pickle\n",
    "import numpy as np\n",
    "import treecorr\n",
    "import matplotlib.pyplot as plt\n",
    "import seaborn as sns\n",
    "from mpl_toolkits.axes_grid1 import make_axes_locatable\n",
    "import treecorr\n",
    "import pandas as pd\n",
    "import galsim\n",
    "\n",
    "def corr1d(thx,thy,para):\n",
    "    cat = treecorr.Catalog(x=thx, y=thy, k=para, x_units='degree', y_units='degree')\n",
    "    kk = treecorr.KKCorrelation(min_sep=0.001, max_sep=1, bin_type=\"Log\",nbins=20, sep_units='degree')\n",
    "    kk.process(cat)\n",
    "    xi = kk.xi\n",
    "    r = kk.rnom\n",
    "    return xi, r"
   ]
  },
  {
   "cell_type": "code",
   "execution_count": 185,
   "id": "9756e002",
   "metadata": {
    "scrolled": false
   },
   "outputs": [],
   "source": [
    "xi_sP = {}\n",
    "xi_sR = {}\n",
    "xi_e1P = {}\n",
    "xi_e1R = {}\n",
    "xi_e2P = {}\n",
    "xi_e2R = {}\n",
    "\n",
    "a={}\n",
    "\n",
    "xi_medP={}\n",
    "xi_medR={}\n",
    "\n",
    "airmassP = {}\n",
    "groundhP = {}\n",
    "screensizeP = {}\n",
    "maxspdP = {}\n",
    "spdP={}\n",
    "\n",
    "airmassR = {}\n",
    "groundhR = {}\n",
    "screensizeR = {}\n",
    "maxspdR = {}\n",
    "spdR={}\n",
    "\n",
    "rsP =[]\n",
    "rsR = []\n",
    "\n",
    "for i in ([6, 7, 8, 9,10, 22, 23, 25, 26, 27]+list(range(30,41))):\n",
    "    data = pickle.load(open(\"heightPsfws/outh_psfws_\"+str(i)+\".pkl\", 'rb'))\n",
    "    (thxP, thyP, seed, x, y, sigmaP, e1P, e2P, argumentsP, atmSummaryP, atmKwargsP) = tuple(data.values())\n",
    "    \n",
    "    xisP,xs = corr1d(thxP,thyP,sigmaP)\n",
    "    xie1P,xs = corr1d(thxP,thyP,e1P)\n",
    "    xie2P,xs = corr1d(thxP,thyP,e2P)\n",
    "\n",
    "    data = pickle.load(open(\"heightRand/outh_rand_\"+str(i)+\".pkl\", 'rb'))\n",
    "    (thxR, thyR, seed, x, y, sigmaR, e1R, e2R, argumentsR, atmSummaryR, atmKwargsR) = tuple(data.values())\n",
    "\n",
    "    xisR,xsR = corr1d(thxR,thyR,sigmaR)\n",
    "    xie1R,xsR = corr1d(thxR,thyR,e1R)\n",
    "    xie2R,xsR = corr1d(thxR,thyR,e2R)\n",
    "    \n",
    "    xi_sP[i] = xisP\n",
    "    xi_sR[i] = xisR\n",
    "    xi_e1P[i] = xie1P\n",
    "    xi_e1R[i] = xie1R\n",
    "    xi_e2P[i] = xie2P\n",
    "    xi_e2R[i] = xie2R\n",
    "    \n",
    "    xi_medP[i] = [np.median(xisP), np.median(xie1P), np.median(xie2P)]\n",
    "    xi_medR[i] = [np.median(xisR), np.median(xie1R), np.median(xie2R)]\n",
    "    a[i] = [np.mean(xisP), np.mean(xie1P), np.mean(xie2P)]\n",
    "    \n",
    "    airmassP[i] = atmSummaryP['airmass']\n",
    "    groundhP[i] = atmKwargsP['altitude'][0]\n",
    "    screensizeP[i] = np.ceil(atmKwargsP['screen_size'])\n",
    "    maxspdP[i] = np.ceil(np.max(atmKwargsP[\"speed\"]))\n",
    "    spdP[i] = atmKwargsP['speed']\n",
    "    \n",
    "    airmassR[i] = atmSummaryR['airmass']\n",
    "    groundhR[i] = atmKwargsR['altitude'][0]\n",
    "    screensizeR[i] = np.ceil(atmKwargsR['screen_size'])\n",
    "    maxspdR[i] = np.ceil(np.max(atmKwargsR[\"speed\"]))\n",
    "    spdR[i] = atmKwargsR['speed']\n",
    "    \n",
    "    rsP = xs\n",
    "    rsR = xsR\n",
    "    \n",
    "    "
   ]
  },
  {
   "cell_type": "markdown",
   "id": "f4e87303",
   "metadata": {},
   "source": [
    "# mean and median doesn't vary too much"
   ]
  },
  {
   "cell_type": "code",
   "execution_count": 195,
   "id": "ea31260f",
   "metadata": {},
   "outputs": [
    {
     "data": {
      "text/html": [
       "<div>\n",
       "<style scoped>\n",
       "    .dataframe tbody tr th:only-of-type {\n",
       "        vertical-align: middle;\n",
       "    }\n",
       "\n",
       "    .dataframe tbody tr th {\n",
       "        vertical-align: top;\n",
       "    }\n",
       "\n",
       "    .dataframe thead th {\n",
       "        text-align: right;\n",
       "    }\n",
       "</style>\n",
       "<table border=\"1\" class=\"dataframe\">\n",
       "  <thead>\n",
       "    <tr style=\"text-align: right;\">\n",
       "      <th></th>\n",
       "      <th>0</th>\n",
       "      <th>1</th>\n",
       "      <th>2</th>\n",
       "    </tr>\n",
       "  </thead>\n",
       "  <tbody>\n",
       "    <tr>\n",
       "      <th>6</th>\n",
       "      <td>-0.000225</td>\n",
       "      <td>2.740722e-06</td>\n",
       "      <td>2.518821e-06</td>\n",
       "    </tr>\n",
       "    <tr>\n",
       "      <th>7</th>\n",
       "      <td>-0.000395</td>\n",
       "      <td>-2.793940e-06</td>\n",
       "      <td>3.707882e-07</td>\n",
       "    </tr>\n",
       "    <tr>\n",
       "      <th>8</th>\n",
       "      <td>0.000109</td>\n",
       "      <td>2.837641e-06</td>\n",
       "      <td>2.016209e-06</td>\n",
       "    </tr>\n",
       "    <tr>\n",
       "      <th>9</th>\n",
       "      <td>-0.000254</td>\n",
       "      <td>2.506312e-06</td>\n",
       "      <td>2.454616e-06</td>\n",
       "    </tr>\n",
       "    <tr>\n",
       "      <th>10</th>\n",
       "      <td>-0.000647</td>\n",
       "      <td>-3.748095e-07</td>\n",
       "      <td>-2.565680e-06</td>\n",
       "    </tr>\n",
       "    <tr>\n",
       "      <th>22</th>\n",
       "      <td>-0.004339</td>\n",
       "      <td>-4.792028e-07</td>\n",
       "      <td>-5.627363e-06</td>\n",
       "    </tr>\n",
       "    <tr>\n",
       "      <th>23</th>\n",
       "      <td>-0.002212</td>\n",
       "      <td>-1.087776e-06</td>\n",
       "      <td>-2.595860e-06</td>\n",
       "    </tr>\n",
       "    <tr>\n",
       "      <th>25</th>\n",
       "      <td>0.000985</td>\n",
       "      <td>-2.474084e-07</td>\n",
       "      <td>1.673402e-06</td>\n",
       "    </tr>\n",
       "    <tr>\n",
       "      <th>26</th>\n",
       "      <td>-0.002338</td>\n",
       "      <td>-6.277522e-06</td>\n",
       "      <td>-7.352954e-06</td>\n",
       "    </tr>\n",
       "    <tr>\n",
       "      <th>27</th>\n",
       "      <td>0.000295</td>\n",
       "      <td>-2.947428e-05</td>\n",
       "      <td>-2.369758e-05</td>\n",
       "    </tr>\n",
       "    <tr>\n",
       "      <th>30</th>\n",
       "      <td>-0.001066</td>\n",
       "      <td>2.608893e-06</td>\n",
       "      <td>1.764451e-06</td>\n",
       "    </tr>\n",
       "    <tr>\n",
       "      <th>31</th>\n",
       "      <td>-0.001951</td>\n",
       "      <td>-1.349180e-06</td>\n",
       "      <td>-1.788426e-06</td>\n",
       "    </tr>\n",
       "    <tr>\n",
       "      <th>32</th>\n",
       "      <td>0.000220</td>\n",
       "      <td>1.686251e-06</td>\n",
       "      <td>3.685909e-07</td>\n",
       "    </tr>\n",
       "    <tr>\n",
       "      <th>33</th>\n",
       "      <td>-0.000692</td>\n",
       "      <td>-1.352486e-07</td>\n",
       "      <td>-1.191708e-05</td>\n",
       "    </tr>\n",
       "    <tr>\n",
       "      <th>34</th>\n",
       "      <td>0.004854</td>\n",
       "      <td>5.359762e-06</td>\n",
       "      <td>-1.046771e-05</td>\n",
       "    </tr>\n",
       "    <tr>\n",
       "      <th>35</th>\n",
       "      <td>-0.000414</td>\n",
       "      <td>-4.446766e-06</td>\n",
       "      <td>2.956453e-06</td>\n",
       "    </tr>\n",
       "    <tr>\n",
       "      <th>36</th>\n",
       "      <td>-0.001042</td>\n",
       "      <td>7.245520e-07</td>\n",
       "      <td>9.377467e-07</td>\n",
       "    </tr>\n",
       "    <tr>\n",
       "      <th>37</th>\n",
       "      <td>0.001040</td>\n",
       "      <td>-1.899781e-06</td>\n",
       "      <td>-2.316026e-06</td>\n",
       "    </tr>\n",
       "    <tr>\n",
       "      <th>38</th>\n",
       "      <td>-0.001314</td>\n",
       "      <td>2.106234e-07</td>\n",
       "      <td>-4.557491e-07</td>\n",
       "    </tr>\n",
       "    <tr>\n",
       "      <th>39</th>\n",
       "      <td>-0.000012</td>\n",
       "      <td>-6.428098e-06</td>\n",
       "      <td>-2.558496e-06</td>\n",
       "    </tr>\n",
       "    <tr>\n",
       "      <th>40</th>\n",
       "      <td>0.000228</td>\n",
       "      <td>-1.261490e-05</td>\n",
       "      <td>-8.370623e-06</td>\n",
       "    </tr>\n",
       "  </tbody>\n",
       "</table>\n",
       "</div>"
      ],
      "text/plain": [
       "           0             1             2\n",
       "6  -0.000225  2.740722e-06  2.518821e-06\n",
       "7  -0.000395 -2.793940e-06  3.707882e-07\n",
       "8   0.000109  2.837641e-06  2.016209e-06\n",
       "9  -0.000254  2.506312e-06  2.454616e-06\n",
       "10 -0.000647 -3.748095e-07 -2.565680e-06\n",
       "22 -0.004339 -4.792028e-07 -5.627363e-06\n",
       "23 -0.002212 -1.087776e-06 -2.595860e-06\n",
       "25  0.000985 -2.474084e-07  1.673402e-06\n",
       "26 -0.002338 -6.277522e-06 -7.352954e-06\n",
       "27  0.000295 -2.947428e-05 -2.369758e-05\n",
       "30 -0.001066  2.608893e-06  1.764451e-06\n",
       "31 -0.001951 -1.349180e-06 -1.788426e-06\n",
       "32  0.000220  1.686251e-06  3.685909e-07\n",
       "33 -0.000692 -1.352486e-07 -1.191708e-05\n",
       "34  0.004854  5.359762e-06 -1.046771e-05\n",
       "35 -0.000414 -4.446766e-06  2.956453e-06\n",
       "36 -0.001042  7.245520e-07  9.377467e-07\n",
       "37  0.001040 -1.899781e-06 -2.316026e-06\n",
       "38 -0.001314  2.106234e-07 -4.557491e-07\n",
       "39 -0.000012 -6.428098e-06 -2.558496e-06\n",
       "40  0.000228 -1.261490e-05 -8.370623e-06"
      ]
     },
     "execution_count": 195,
     "metadata": {},
     "output_type": "execute_result"
    }
   ],
   "source": [
    "(pd.DataFrame(a)-pd.DataFrame(xi_medP)).T"
   ]
  },
  {
   "cell_type": "markdown",
   "id": "72efbf78",
   "metadata": {},
   "source": [
    " # coorelation functions is bigger for rand than psfws sims"
   ]
  },
  {
   "cell_type": "code",
   "execution_count": 178,
   "id": "8b902b2e",
   "metadata": {},
   "outputs": [
    {
     "name": "stdout",
     "output_type": "stream",
     "text": [
      "percent of psfws correlation greater than random correlation\n"
     ]
    },
    {
     "data": {
      "text/plain": [
       "xi sigma    0.619048\n",
       "xi e1       0.380952\n",
       "xi e2       0.380952\n",
       "dtype: float64"
      ]
     },
     "execution_count": 178,
     "metadata": {},
     "output_type": "execute_result"
    }
   ],
   "source": [
    "# psfws corr\n",
    "p = pd.DataFrame(xi_medP, index=[\"xi sigma\", \"xi e1\", \"xi e2\"]).T\n",
    "# random corr\n",
    "r = pd.DataFrame(xi_medR, index=[\"xi sigma\", \"xi e1\", \"xi e2\"]).T\n",
    "print(\"percent of psfws correlation greater than random correlation\")\n",
    "(p > r).sum(axis=0)/(p > r).shape[0]"
   ]
  },
  {
   "cell_type": "markdown",
   "id": "a998e800",
   "metadata": {},
   "source": [
    "# input params are good"
   ]
  },
  {
   "cell_type": "code",
   "execution_count": 179,
   "id": "990d35cc",
   "metadata": {},
   "outputs": [
    {
     "name": "stdout",
     "output_type": "stream",
     "text": [
      "airmass:  1\n",
      "ground height:  0.2\n",
      "all airmass =1\n",
      "all groundheight = 200m\n"
     ]
    }
   ],
   "source": [
    "print(\"airmass: \", airmass[6])\n",
    "print(\"ground height: \", groundh[6])\n",
    "if np.sum(np.array(list(airmassP.values()))==np.array(list(airmassR.values()))) ==21:\n",
    "    if airmass[6] ==1:\n",
    "        print(\"all airmass =1\")\n",
    "if np.sum(np.array(list(groundhP.values()))== np.array(list(groundhR.values()))) ==21:\n",
    "    if groundh[6] ==0.2:\n",
    "        print(\"all groundheight = 200m\")\n"
   ]
  },
  {
   "cell_type": "markdown",
   "id": "a82ed653",
   "metadata": {},
   "source": [
    "# display stats"
   ]
  },
  {
   "cell_type": "code",
   "execution_count": 180,
   "id": "bd67ac20",
   "metadata": {},
   "outputs": [
    {
     "data": {
      "text/html": [
       "<div>\n",
       "<style scoped>\n",
       "    .dataframe tbody tr th:only-of-type {\n",
       "        vertical-align: middle;\n",
       "    }\n",
       "\n",
       "    .dataframe tbody tr th {\n",
       "        vertical-align: top;\n",
       "    }\n",
       "\n",
       "    .dataframe thead th {\n",
       "        text-align: right;\n",
       "    }\n",
       "</style>\n",
       "<table border=\"1\" class=\"dataframe\">\n",
       "  <thead>\n",
       "    <tr style=\"text-align: right;\">\n",
       "      <th></th>\n",
       "      <th>vmax psfws</th>\n",
       "      <th>vmax rand</th>\n",
       "      <th>vmed psfws</th>\n",
       "      <th>vmed rand</th>\n",
       "      <th>vp med &gt; vr med</th>\n",
       "      <th>xi sigma</th>\n",
       "      <th>xi e1</th>\n",
       "      <th>xi e2</th>\n",
       "    </tr>\n",
       "  </thead>\n",
       "  <tbody>\n",
       "    <tr>\n",
       "      <th>6</th>\n",
       "      <td>32.0</td>\n",
       "      <td>18.0</td>\n",
       "      <td>20.0</td>\n",
       "      <td>4.0</td>\n",
       "      <td>True</td>\n",
       "      <td>True</td>\n",
       "      <td>False</td>\n",
       "      <td>False</td>\n",
       "    </tr>\n",
       "    <tr>\n",
       "      <th>7</th>\n",
       "      <td>25.0</td>\n",
       "      <td>19.0</td>\n",
       "      <td>10.0</td>\n",
       "      <td>7.0</td>\n",
       "      <td>True</td>\n",
       "      <td>True</td>\n",
       "      <td>False</td>\n",
       "      <td>False</td>\n",
       "    </tr>\n",
       "    <tr>\n",
       "      <th>8</th>\n",
       "      <td>27.0</td>\n",
       "      <td>13.0</td>\n",
       "      <td>17.0</td>\n",
       "      <td>3.0</td>\n",
       "      <td>True</td>\n",
       "      <td>True</td>\n",
       "      <td>False</td>\n",
       "      <td>False</td>\n",
       "    </tr>\n",
       "    <tr>\n",
       "      <th>9</th>\n",
       "      <td>29.0</td>\n",
       "      <td>17.0</td>\n",
       "      <td>15.0</td>\n",
       "      <td>13.0</td>\n",
       "      <td>True</td>\n",
       "      <td>True</td>\n",
       "      <td>True</td>\n",
       "      <td>True</td>\n",
       "    </tr>\n",
       "    <tr>\n",
       "      <th>10</th>\n",
       "      <td>67.0</td>\n",
       "      <td>20.0</td>\n",
       "      <td>22.0</td>\n",
       "      <td>19.0</td>\n",
       "      <td>True</td>\n",
       "      <td>False</td>\n",
       "      <td>False</td>\n",
       "      <td>False</td>\n",
       "    </tr>\n",
       "    <tr>\n",
       "      <th>22</th>\n",
       "      <td>59.0</td>\n",
       "      <td>15.0</td>\n",
       "      <td>17.0</td>\n",
       "      <td>6.0</td>\n",
       "      <td>True</td>\n",
       "      <td>False</td>\n",
       "      <td>False</td>\n",
       "      <td>False</td>\n",
       "    </tr>\n",
       "    <tr>\n",
       "      <th>23</th>\n",
       "      <td>51.0</td>\n",
       "      <td>15.0</td>\n",
       "      <td>21.0</td>\n",
       "      <td>10.0</td>\n",
       "      <td>True</td>\n",
       "      <td>True</td>\n",
       "      <td>True</td>\n",
       "      <td>False</td>\n",
       "    </tr>\n",
       "    <tr>\n",
       "      <th>25</th>\n",
       "      <td>31.0</td>\n",
       "      <td>20.0</td>\n",
       "      <td>15.0</td>\n",
       "      <td>16.0</td>\n",
       "      <td>False</td>\n",
       "      <td>False</td>\n",
       "      <td>False</td>\n",
       "      <td>True</td>\n",
       "    </tr>\n",
       "    <tr>\n",
       "      <th>26</th>\n",
       "      <td>23.0</td>\n",
       "      <td>19.0</td>\n",
       "      <td>11.0</td>\n",
       "      <td>14.0</td>\n",
       "      <td>False</td>\n",
       "      <td>True</td>\n",
       "      <td>True</td>\n",
       "      <td>True</td>\n",
       "    </tr>\n",
       "    <tr>\n",
       "      <th>27</th>\n",
       "      <td>24.0</td>\n",
       "      <td>13.0</td>\n",
       "      <td>12.0</td>\n",
       "      <td>9.0</td>\n",
       "      <td>True</td>\n",
       "      <td>True</td>\n",
       "      <td>True</td>\n",
       "      <td>True</td>\n",
       "    </tr>\n",
       "    <tr>\n",
       "      <th>30</th>\n",
       "      <td>44.0</td>\n",
       "      <td>19.0</td>\n",
       "      <td>19.0</td>\n",
       "      <td>13.0</td>\n",
       "      <td>True</td>\n",
       "      <td>True</td>\n",
       "      <td>False</td>\n",
       "      <td>False</td>\n",
       "    </tr>\n",
       "    <tr>\n",
       "      <th>31</th>\n",
       "      <td>79.0</td>\n",
       "      <td>18.0</td>\n",
       "      <td>29.0</td>\n",
       "      <td>10.0</td>\n",
       "      <td>True</td>\n",
       "      <td>False</td>\n",
       "      <td>False</td>\n",
       "      <td>False</td>\n",
       "    </tr>\n",
       "    <tr>\n",
       "      <th>32</th>\n",
       "      <td>33.0</td>\n",
       "      <td>17.0</td>\n",
       "      <td>14.0</td>\n",
       "      <td>7.0</td>\n",
       "      <td>True</td>\n",
       "      <td>True</td>\n",
       "      <td>False</td>\n",
       "      <td>False</td>\n",
       "    </tr>\n",
       "    <tr>\n",
       "      <th>33</th>\n",
       "      <td>33.0</td>\n",
       "      <td>19.0</td>\n",
       "      <td>14.0</td>\n",
       "      <td>6.0</td>\n",
       "      <td>True</td>\n",
       "      <td>True</td>\n",
       "      <td>True</td>\n",
       "      <td>False</td>\n",
       "    </tr>\n",
       "    <tr>\n",
       "      <th>34</th>\n",
       "      <td>26.0</td>\n",
       "      <td>18.0</td>\n",
       "      <td>8.0</td>\n",
       "      <td>13.0</td>\n",
       "      <td>False</td>\n",
       "      <td>False</td>\n",
       "      <td>True</td>\n",
       "      <td>True</td>\n",
       "    </tr>\n",
       "    <tr>\n",
       "      <th>35</th>\n",
       "      <td>36.0</td>\n",
       "      <td>20.0</td>\n",
       "      <td>11.0</td>\n",
       "      <td>9.0</td>\n",
       "      <td>True</td>\n",
       "      <td>False</td>\n",
       "      <td>True</td>\n",
       "      <td>True</td>\n",
       "    </tr>\n",
       "    <tr>\n",
       "      <th>36</th>\n",
       "      <td>54.0</td>\n",
       "      <td>15.0</td>\n",
       "      <td>23.0</td>\n",
       "      <td>11.0</td>\n",
       "      <td>True</td>\n",
       "      <td>True</td>\n",
       "      <td>False</td>\n",
       "      <td>False</td>\n",
       "    </tr>\n",
       "    <tr>\n",
       "      <th>37</th>\n",
       "      <td>52.0</td>\n",
       "      <td>16.0</td>\n",
       "      <td>23.0</td>\n",
       "      <td>7.0</td>\n",
       "      <td>True</td>\n",
       "      <td>False</td>\n",
       "      <td>False</td>\n",
       "      <td>False</td>\n",
       "    </tr>\n",
       "    <tr>\n",
       "      <th>38</th>\n",
       "      <td>55.0</td>\n",
       "      <td>16.0</td>\n",
       "      <td>28.0</td>\n",
       "      <td>11.0</td>\n",
       "      <td>True</td>\n",
       "      <td>False</td>\n",
       "      <td>False</td>\n",
       "      <td>False</td>\n",
       "    </tr>\n",
       "    <tr>\n",
       "      <th>39</th>\n",
       "      <td>44.0</td>\n",
       "      <td>19.0</td>\n",
       "      <td>22.0</td>\n",
       "      <td>10.0</td>\n",
       "      <td>True</td>\n",
       "      <td>True</td>\n",
       "      <td>False</td>\n",
       "      <td>True</td>\n",
       "    </tr>\n",
       "    <tr>\n",
       "      <th>40</th>\n",
       "      <td>38.0</td>\n",
       "      <td>20.0</td>\n",
       "      <td>17.0</td>\n",
       "      <td>16.0</td>\n",
       "      <td>True</td>\n",
       "      <td>True</td>\n",
       "      <td>True</td>\n",
       "      <td>True</td>\n",
       "    </tr>\n",
       "  </tbody>\n",
       "</table>\n",
       "</div>"
      ],
      "text/plain": [
       "    vmax psfws  vmax rand  vmed psfws  vmed rand  vp med > vr med  xi sigma  \\\n",
       "6         32.0       18.0        20.0        4.0             True      True   \n",
       "7         25.0       19.0        10.0        7.0             True      True   \n",
       "8         27.0       13.0        17.0        3.0             True      True   \n",
       "9         29.0       17.0        15.0       13.0             True      True   \n",
       "10        67.0       20.0        22.0       19.0             True     False   \n",
       "22        59.0       15.0        17.0        6.0             True     False   \n",
       "23        51.0       15.0        21.0       10.0             True      True   \n",
       "25        31.0       20.0        15.0       16.0            False     False   \n",
       "26        23.0       19.0        11.0       14.0            False      True   \n",
       "27        24.0       13.0        12.0        9.0             True      True   \n",
       "30        44.0       19.0        19.0       13.0             True      True   \n",
       "31        79.0       18.0        29.0       10.0             True     False   \n",
       "32        33.0       17.0        14.0        7.0             True      True   \n",
       "33        33.0       19.0        14.0        6.0             True      True   \n",
       "34        26.0       18.0         8.0       13.0            False     False   \n",
       "35        36.0       20.0        11.0        9.0             True     False   \n",
       "36        54.0       15.0        23.0       11.0             True      True   \n",
       "37        52.0       16.0        23.0        7.0             True     False   \n",
       "38        55.0       16.0        28.0       11.0             True     False   \n",
       "39        44.0       19.0        22.0       10.0             True      True   \n",
       "40        38.0       20.0        17.0       16.0             True      True   \n",
       "\n",
       "    xi e1  xi e2  \n",
       "6   False  False  \n",
       "7   False  False  \n",
       "8   False  False  \n",
       "9    True   True  \n",
       "10  False  False  \n",
       "22  False  False  \n",
       "23   True  False  \n",
       "25  False   True  \n",
       "26   True   True  \n",
       "27   True   True  \n",
       "30  False  False  \n",
       "31  False  False  \n",
       "32  False  False  \n",
       "33   True  False  \n",
       "34   True   True  \n",
       "35   True   True  \n",
       "36  False  False  \n",
       "37  False  False  \n",
       "38  False  False  \n",
       "39  False   True  \n",
       "40   True   True  "
      ]
     },
     "execution_count": 180,
     "metadata": {},
     "output_type": "execute_result"
    }
   ],
   "source": [
    "df = pd.DataFrame(index=[6, 7, 8, 9,10, 22, 23, 25, 26, 27]+list(range(30,41)))\n",
    "df [\"vmax psfws\"] = maxspdP.values()\n",
    "df [\"vmax rand\"] = maxspdR.values()\n",
    "df['vmed psfws'] = [np.ceil(np.median(spdP[i])) for i in spdP]\n",
    "df['vmed rand'] = [np.ceil(np.median(spdR[i])) for i in spdR]\n",
    "df['vp med > vr med'] = df['vmed psfws'] > df['vmed rand']\n",
    "df = pd.concat([df,p>r], axis=1)\n",
    "df.rename({\"xi sigma\":\"xi_sigma p>r\",\n",
    "          \"xi e1\":\"xi_e1 p>r\",\n",
    "          \"xi e2\":\"xi_e2 p>r\"},axis=1)\n",
    "df"
   ]
  },
  {
   "cell_type": "markdown",
   "id": "f45ce36e",
   "metadata": {},
   "source": [
    "# corr vs. sep dist for diferent seeds"
   ]
  },
  {
   "cell_type": "code",
   "execution_count": 107,
   "id": "998e039c",
   "metadata": {
    "scrolled": false
   },
   "outputs": [
    {
     "data": {
      "image/png": "[encoded data removed]",
      "text/plain": [
       "<Figure size 1080x216 with 3 Axes>"
      ]
     },
     "metadata": {
      "needs_background": "light"
     },
     "output_type": "display_data"
    },
    {
     "data": {
      "image/png": "[encoded data removed]",
      "text/plain": [
       "<Figure size 1080x216 with 3 Axes>"
      ]
     },
     "metadata": {
      "needs_background": "light"
     },
     "output_type": "display_data"
    },
    {
     "data": {
      "image/png": "[encoded data removed]",
      "text/plain": [
       "<Figure size 1080x216 with 3 Axes>"
      ]
     },
     "metadata": {
      "needs_background": "light"
     },
     "output_type": "display_data"
    },
    {
     "data": {
      "image/png": "[encoded data removed]",
      "text/plain": [
       "<Figure size 1080x216 with 3 Axes>"
      ]
     },
     "metadata": {
      "needs_background": "light"
     },
     "output_type": "display_data"
    },
    {
     "data": {
      "image/png": "[encoded data removed]",
      "text/plain": [
       "<Figure size 1080x216 with 3 Axes>"
      ]
     },
     "metadata": {
      "needs_background": "light"
     },
     "output_type": "display_data"
    }
   ],
   "source": [
    "for i in ([6, 7, 8, 9,10, 22, 23, 25, 26, 27]+list(range(30,41))):\n",
    "    fig, ax = plt.subplots(1,3,figsize=(15,3))\n",
    "    \n",
    "    ax[0].scatter(rsP,xi_sP[i],label=\"psfws\")\n",
    "    ax[0].scatter(rsR,xi_sR[i], label=\"random\")\n",
    "    ax[0].set_ylabel(\"corr sigma\")\n",
    "    \n",
    "    ax[1].scatter(rsP,xi_e1P[i])\n",
    "    ax[1].scatter(rsR,xi_e1R[i])\n",
    "    ax[1].set_ylabel(\"corr e1\")\n",
    "    \n",
    "    ax[2].scatter(rsP,xi_e2P[i])\n",
    "    ax[2].scatter(rsR,xi_e2R[i])\n",
    "    ax[2].set_ylabel(\"corr e2\")\n",
    "    \n",
    "    \n",
    "    [a.ticklabel_format(style=\"sci\", scilimits=(0,0)) for a in ax]\n",
    "    [a.set_xscale('log') for a in ax]\n",
    "    \n",
    "    #[a.set_yscale('log') for a in ax]\n",
    "    #[a.set_ylim(ymin=0) for a in ax]\n",
    "\n",
    "    fig.suptitle(str(i))\n",
    "    fig.legend()\n",
    "    \n",
    "    if i%5 != 0:\n",
    "        plt.close()\n",
    "    "
   ]
  },
  {
   "cell_type": "markdown",
   "id": "58f4cd09",
   "metadata": {},
   "source": [
    "# median corr vs. median speed"
   ]
  },
  {
   "cell_type": "code",
   "execution_count": 182,
   "id": "77c840a7",
   "metadata": {},
   "outputs": [
    {
     "data": {
      "text/plain": [
       "<matplotlib.legend.Legend at 0x7f03c778ba90>"
      ]
     },
     "execution_count": 182,
     "metadata": {},
     "output_type": "execute_result"
    },
    {
     "data": {
      "image/png": "[encoded data removed]",
      "text/plain": [
       "<Figure size 1080x216 with 3 Axes>"
      ]
     },
     "metadata": {
      "needs_background": "light"
     },
     "output_type": "display_data"
    }
   ],
   "source": [
    "vmedP = df[\"vmed psfws\"]\n",
    "vmedR = df[\"vmed rand\"]\n",
    "\n",
    "fig, ax = plt.subplots(1,3,figsize=(15,3))\n",
    "ax[0].scatter(vmedP, p[\"xi sigma\"],label=\"psfws\")\n",
    "ax[0].scatter(vmedR, r[\"xi sigma\"], label=\"random\")\n",
    "ax[0].set_ylabel(\"corr sigma\")\n",
    "\n",
    "ax[1].scatter(vmedP, p[\"xi e1\"])\n",
    "ax[1].scatter(vmedR, r[\"xi e1\"])\n",
    "ax[1].set_ylabel(\"corr e1\")\n",
    "\n",
    "ax[2].scatter(vmedP, p[\"xi e2\"])\n",
    "ax[2].scatter(vmedR, p[\"xi e2\"])\n",
    "ax[2].set_ylabel(\"corr e2\")\n",
    "ax[2].set_ylim(ymax=0.5e-3)\n",
    "\n",
    "\n",
    "[a.ticklabel_format(style=\"sci\", scilimits=(0,0)) for a in ax]\n",
    "[a.set_xscale('log') for a in ax]\n",
    "[a.set_xlabel(\"vmed\") for a in ax]\n",
    "\n",
    "fig.legend()\n",
    "\n"
   ]
  },
  {
   "cell_type": "markdown",
   "id": "1f7836ed",
   "metadata": {},
   "source": [
    "# med corr vs. max speed"
   ]
  },
  {
   "cell_type": "code",
   "execution_count": 183,
   "id": "2a604bf6",
   "metadata": {},
   "outputs": [
    {
     "data": {
      "text/plain": [
       "<matplotlib.legend.Legend at 0x7f03bd8dbaf0>"
      ]
     },
     "execution_count": 183,
     "metadata": {},
     "output_type": "execute_result"
    },
    {
     "data": {
      "image/png": "[encoded data removed]",
      "text/plain": [
       "<Figure size 1080x216 with 3 Axes>"
      ]
     },
     "metadata": {
      "needs_background": "light"
     },
     "output_type": "display_data"
    }
   ],
   "source": [
    "vmaxP = df[\"vmax psfws\"]\n",
    "vmaxR = df[\"vmax rand\"]\n",
    "\n",
    "fig, ax = plt.subplots(1,3,figsize=(15,3))\n",
    "ax[0].scatter(vmaxP, p[\"xi sigma\"],label=\"psfws\")\n",
    "ax[0].scatter(vmaxR, r[\"xi sigma\"], label=\"random\")\n",
    "ax[0].set_ylabel(\"corr sigma\")\n",
    "\n",
    "ax[1].scatter(vmaxP, p[\"xi e1\"])\n",
    "ax[1].scatter(vmaxR, r[\"xi e1\"])\n",
    "ax[1].set_ylabel(\"corr e1\")\n",
    "\n",
    "ax[2].scatter(vmaxP, p[\"xi e2\"])\n",
    "ax[2].scatter(vmaxR, p[\"xi e2\"])\n",
    "ax[2].set_ylabel(\"corr e2\")\n",
    "ax[2].set_ylim(ymax=0.5e-3)\n",
    "\n",
    "\n",
    "[a.ticklabel_format(style=\"sci\", scilimits=(0,0)) for a in ax]\n",
    "[a.set_xscale('log') for a in ax]\n",
    "[a.set_xlabel(\"vmax\") for a in ax]\n",
    "\n",
    "fig.legend()\n",
    "\n"
   ]
  },
  {
   "cell_type": "markdown",
   "id": "5f779920",
   "metadata": {},
   "source": [
    "# med corr v. ground wind"
   ]
  },
  {
   "cell_type": "code",
   "execution_count": 184,
   "id": "191f7451",
   "metadata": {},
   "outputs": [
    {
     "data": {
      "text/plain": [
       "<matplotlib.legend.Legend at 0x7f03bd6bbbe0>"
      ]
     },
     "execution_count": 184,
     "metadata": {},
     "output_type": "execute_result"
    },
    {
     "data": {
      "image/png": "[encoded data removed]",
      "text/plain": [
       "<Figure size 1080x216 with 3 Axes>"
      ]
     },
     "metadata": {
      "needs_background": "light"
     },
     "output_type": "display_data"
    }
   ],
   "source": [
    "grdwindP = [spdP[i][0] for i in spdP]\n",
    "grdwindR = [spdR[i][0] for i in spdR]\n",
    "\n",
    "fig, ax = plt.subplots(1,3,figsize=(15,3))\n",
    "ax[0].scatter(grdwindP,p[\"xi sigma\"],label=\"psfws\")\n",
    "ax[0].scatter(grdwindR,r[\"xi sigma\"], label=\"random\")\n",
    "ax[0].set_ylabel(\"corr sigma\")\n",
    "\n",
    "ax[1].scatter(grdwindP,p[\"xi e1\"])\n",
    "ax[1].scatter(grdwindR,r[\"xi e1\"])\n",
    "ax[1].set_ylabel(\"corr e1\")\n",
    "\n",
    "ax[2].scatter(grdwindP,p[\"xi e2\"])\n",
    "ax[2].scatter(grdwindR,r[\"xi e2\"])\n",
    "ax[2].set_ylabel(\"corr e2\")\n",
    "ax[2].set_ylim(ymax=1.5e-3)\n",
    "\n",
    "\n",
    "[a.ticklabel_format(style=\"sci\", scilimits=(0,0)) for a in ax]\n",
    "[a.set_xscale('log') for a in ax]\n",
    "[a.set_xlabel(\"v_ground\") for a in ax]\n",
    "\n",
    "fig.legend()\n",
    "\n",
    "    "
   ]
  },
  {
   "cell_type": "code",
   "execution_count": null,
   "id": "5843f3fe",
   "metadata": {},
   "outputs": [],
   "source": []
  }
 ],
 "metadata": {
  "kernelspec": {
   "display_name": "Python 3 (ipykernel)",
   "language": "python",
   "name": "python3"
  },
  "language_info": {
   "codemirror_mode": {
    "name": "ipython",
    "version": 3
   },
   "file_extension": ".py",
   "mimetype": "text/x-python",
   "name": "python",
   "nbconvert_exporter": "python",
   "pygments_lexer": "ipython3",
   "version": "3.10.4"
  }
 },
 "nbformat": 4,
 "nbformat_minor": 5
}
