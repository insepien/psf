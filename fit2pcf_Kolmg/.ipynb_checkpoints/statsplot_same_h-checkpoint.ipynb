{
 "cells": [
  {
   "cell_type": "markdown",
   "id": "939ec59b",
   "metadata": {},
   "source": [
    "# notes\n",
    "- this notebook plots the correlation func of sigma, e1,e2 as function of separation\n",
    "- same heights.\n",
    "- pkl dir: heightPsfws, heightRand"
   ]
  },
  {
   "cell_type": "code",
   "execution_count": 1,
   "id": "75664e33",
   "metadata": {},
   "outputs": [],
   "source": [
    "import psfws\n",
    "import pickle\n",
    "import numpy as np\n",
    "import treecorr\n",
    "import matplotlib.pyplot as plt\n",
    "import seaborn as sns\n",
    "from mpl_toolkits.axes_grid1 import make_axes_locatable\n",
    "import treecorr\n",
    "import pandas as pd\n",
    "import galsim"
   ]
  },
  {
   "cell_type": "code",
   "execution_count": 2,
   "id": "c8341a8c",
   "metadata": {},
   "outputs": [],
   "source": [
    "def corr2d(thx,thy,para):\n",
    "    cat = treecorr.Catalog(x=thx, y=thy, k=para, x_units='degree', y_units='degree')\n",
    "    kk = treecorr.KKCorrelation(min_sep=0, max_sep=0.5,bin_type=\"TwoD\", nbins=20, sep_units='degree')\n",
    "    kk.process(cat)\n",
    "    xi = kk.xi\n",
    "    return xi\n",
    "\n",
    "def corr1d(thx,thy,para):\n",
    "    cat = treecorr.Catalog(x=thx, y=thy, k=para, x_units='degree', y_units='degree')\n",
    "    kk = treecorr.KKCorrelation(min_sep=0.001, max_sep=1, bin_type=\"Log\",nbins=20, sep_units='degree')\n",
    "    kk.process(cat)\n",
    "    xi = kk.xi\n",
    "    r = kk.rnom\n",
    "    return xi, r"
   ]
  },
  {
   "cell_type": "code",
   "execution_count": 3,
   "id": "9756e002",
   "metadata": {
    "scrolled": false
   },
   "outputs": [
    {
     "ename": "FileNotFoundError",
     "evalue": "[Errno 2] No such file or directory: 'heightPsfws/outh_psfws_6.pkl'",
     "output_type": "error",
     "traceback": [
      "\u001b[0;31m---------------------------------------------------------------------------\u001b[0m",
      "\u001b[0;31mFileNotFoundError\u001b[0m                         Traceback (most recent call last)",
      "Input \u001b[0;32mIn [3]\u001b[0m, in \u001b[0;36m<cell line: 5>\u001b[0;34m()\u001b[0m\n\u001b[1;32m      3\u001b[0m inputs\u001b[38;5;241m=\u001b[39m{}\n\u001b[1;32m      5\u001b[0m \u001b[38;5;28;01mfor\u001b[39;00m i \u001b[38;5;129;01min\u001b[39;00m ([\u001b[38;5;241m6\u001b[39m, \u001b[38;5;241m7\u001b[39m, \u001b[38;5;241m8\u001b[39m, \u001b[38;5;241m9\u001b[39m,\u001b[38;5;241m10\u001b[39m, \u001b[38;5;241m22\u001b[39m, \u001b[38;5;241m23\u001b[39m, \u001b[38;5;241m25\u001b[39m, \u001b[38;5;241m26\u001b[39m, \u001b[38;5;241m27\u001b[39m]\u001b[38;5;241m+\u001b[39m\u001b[38;5;28mlist\u001b[39m(\u001b[38;5;28mrange\u001b[39m(\u001b[38;5;241m30\u001b[39m,\u001b[38;5;241m41\u001b[39m))):\n\u001b[0;32m----> 6\u001b[0m     data \u001b[38;5;241m=\u001b[39m pickle\u001b[38;5;241m.\u001b[39mload(\u001b[38;5;28;43mopen\u001b[39;49m\u001b[43m(\u001b[49m\u001b[38;5;124;43m\"\u001b[39;49m\u001b[38;5;124;43mheightPsfws/outh_psfws_\u001b[39;49m\u001b[38;5;124;43m\"\u001b[39;49m\u001b[38;5;241;43m+\u001b[39;49m\u001b[38;5;28;43mstr\u001b[39;49m\u001b[43m(\u001b[49m\u001b[43mi\u001b[49m\u001b[43m)\u001b[49m\u001b[38;5;241;43m+\u001b[39;49m\u001b[38;5;124;43m\"\u001b[39;49m\u001b[38;5;124;43m.pkl\u001b[39;49m\u001b[38;5;124;43m\"\u001b[39;49m\u001b[43m,\u001b[49m\u001b[43m \u001b[49m\u001b[38;5;124;43m'\u001b[39;49m\u001b[38;5;124;43mrb\u001b[39;49m\u001b[38;5;124;43m'\u001b[39;49m\u001b[43m)\u001b[49m)\n\u001b[1;32m      7\u001b[0m     \u001b[38;5;28;01mfor\u001b[39;00m key \u001b[38;5;129;01min\u001b[39;00m data\u001b[38;5;241m.\u001b[39mkeys():\n\u001b[1;32m      8\u001b[0m         data[key] \u001b[38;5;241m=\u001b[39m np\u001b[38;5;241m.\u001b[39marray(data[key])\n",
      "\u001b[0;31mFileNotFoundError\u001b[0m: [Errno 2] No such file or directory: 'heightPsfws/outh_psfws_6.pkl'"
     ]
    }
   ],
   "source": [
    "meansP={}\n",
    "meansR={}\n",
    "inputs={}\n",
    "\n",
    "for i in ([6, 7, 8, 9,10, 22, 23, 25, 26, 27]+list(range(30,41))):\n",
    "    data = pickle.load(open(\"heightPsfws/outh_psfws_\"+str(i)+\".pkl\", 'rb'))\n",
    "    for key in data.keys():\n",
    "        data[key] = np.array(data[key])\n",
    "    (thx, thy, seed, x, y, sigma, e1, e2, arguments, atmSummary, atmKwargs) = tuple(data.values())\n",
    "\n",
    "    corrs,xs = corr1d(thx,thy,sigma)\n",
    "    corre1,xs = corr1d(thx,thy,e1)\n",
    "    corre2,xs = corr1d(thx,thy,e2)\n",
    "\n",
    "    data = pickle.load(open(\"heightRand/outh_rand_\"+str(i)+\".pkl\", 'rb'))\n",
    "    for key in data.keys():\n",
    "        data[key] = np.array(data[key])\n",
    "    (thx1, thy1, seed, x, y, sigma1, e1, e2, arguments, atmSummary, atmKwargs) = tuple(data.values())\n",
    "\n",
    "    corrsR,xsR = corr1d(thx1,thy1,sigma1)\n",
    "    corre1R,xsR = corr1d(thx1,thy1,e1)\n",
    "    corre2R,xsR = corr1d(thx1,thy1,e2)\n",
    "    \n",
    "    fig, ax = plt.subplots(1,3,figsize=(15,3))\n",
    "    \n",
    "    ax[0].scatter(xs,corrs,label=\"psfws\")\n",
    "    ax[0].scatter(xsR,corrsR, label=\"random\")\n",
    "    \n",
    "    ax[1].scatter(xs,corre1)\n",
    "    ax[1].scatter(xsR,corre1R)\n",
    "    \n",
    "    ax[2].scatter(xs,corre2)\n",
    "    ax[2].scatter(xsR,corre2R)\n",
    "    \n",
    "    \n",
    "    [a.ticklabel_format(style=\"sci\", scilimits=(0,0)) for a in ax]\n",
    "    [a.set_xscale('log') for a in ax]\n",
    "    \n",
    "    #[a.set_yscale('log') for a in ax]\n",
    "    #[a.set_ylim(ymin=0) for a in ax]\n",
    "\n",
    "    fig.suptitle(str(i))\n",
    "    fig.legend()\n",
    "    \n",
    "    meansP[i] = [np.mean(corrs), np.mean(corre1), np.mean(corre2)]\n",
    "    meansR[i] = [np.mean(corrsR), np.mean(corre1R), np.mean(corre2R)]\n",
    "    \n",
    "    \n",
    "    if i not in list(range(6,11)):\n",
    "        plt.close()\n",
    "    "
   ]
  },
  {
   "cell_type": "markdown",
   "id": "72efbf78",
   "metadata": {},
   "source": [
    "# getting some statistics"
   ]
  },
  {
   "cell_type": "code",
   "execution_count": null,
   "id": "8b902b2e",
   "metadata": {},
   "outputs": [],
   "source": [
    "# psfws corr\n",
    "p = pd.DataFrame(meansP, index=[\"sigma\", \"e1\", \"e2\"]).T\n",
    "# random corr\n",
    "r = pd.DataFrame(meansR, index=[\"sigma\", \"e1\", \"e2\"]).T\n",
    "print(\"percent of psfws correlation greater than random correlation\")\n",
    "(p > r).sum(axis=0)/(p > r).shape[0]"
   ]
  },
  {
   "cell_type": "markdown",
   "id": "a998e800",
   "metadata": {},
   "source": [
    "# checking input params"
   ]
  },
  {
   "cell_type": "code",
   "execution_count": null,
   "id": "5fc2b09f",
   "metadata": {},
   "outputs": [],
   "source": [
    "airmass = {}\n",
    "groundh = {}\n",
    "screensize = {}\n",
    "maxspd = {}\n",
    "\n",
    "airmassR = {}\n",
    "groundhR = {}\n",
    "screensizeR = {}\n",
    "maxspdR = {}\n",
    "\n",
    "for i in ([6, 7, 8, 9,10, 22, 23, 25, 26, 27]+list(range(30,41))):\n",
    "    data = pickle.load(open(\"heightPsfws/outh_psfws_\"+str(i)+\".pkl\", 'rb'))\n",
    "    (thx, thy, seed, x, y, sigma, e1, e2, arguments, atmSummary, atmKwargs) = tuple(data.values())\n",
    "    \n",
    "    airmass[i] = atmSummary['airmass']\n",
    "    groundh[i] = atmKwargs['altitude'][0]\n",
    "    screensize[i] = np.ceil(atmKwargs['screen_size'])\n",
    "    maxspd[i] = np.ceil(np.max(atmKwargs[\"speed\"]))\n",
    "    \n",
    "    data = pickle.load(open(\"heightRand/outh_rand_\"+str(i)+\".pkl\", 'rb'))\n",
    "    (thx, thy, seed, x, y, sigma, e1, e2, arguments, atmSummary, atmKwargs) = tuple(data.values())\n",
    "\n",
    "    airmassR[i] = atmSummary['airmass']\n",
    "    groundhR[i] = atmKwargs['altitude'][0]\n",
    "    screensizeR[i] = np.ceil(atmKwargs['screen_size'])\n",
    "    maxspdR[i] = np.ceil(np.max(atmKwargs[\"speed\"]))"
   ]
  },
  {
   "cell_type": "code",
   "execution_count": null,
   "id": "990d35cc",
   "metadata": {},
   "outputs": [],
   "source": [
    "print(\"airmass: \", airmass[6])\n",
    "print(\"ground height: \", groundh[6])\n",
    "df = pd.DataFrame(index=[6, 7, 8, 9,10, 22, 23, 25, 26, 27]+list(range(30,41)))\n",
    "df [\"airmass=1\"] = np.array(list(airmass.values()))==np.array(list(airmassR.values()))\n",
    "df [\"h0=0.2\"] = np.array(list(groundh.values()))== np.array(list(groundhR.values()))\n",
    "df [\"vmax psfws\"] = maxspd.values()\n",
    "df [\"vmax rand\"] = maxspdR.values()\n",
    "df\n"
   ]
  },
  {
   "cell_type": "code",
   "execution_count": null,
   "id": "75c12351",
   "metadata": {},
   "outputs": [],
   "source": []
  }
 ],
 "metadata": {
  "kernelspec": {
   "display_name": "Python 3 (ipykernel)",
   "language": "python",
   "name": "python3"
  },
  "language_info": {
   "codemirror_mode": {
    "name": "ipython",
    "version": 3
   },
   "file_extension": ".py",
   "mimetype": "text/x-python",
   "name": "python",
   "nbconvert_exporter": "python",
   "pygments_lexer": "ipython3",
   "version": "3.10.4"
  }
 },
 "nbformat": 4,
 "nbformat_minor": 5
}
