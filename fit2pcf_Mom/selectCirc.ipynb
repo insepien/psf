{
 "cells": [
  {
   "cell_type": "code",
   "execution_count": 2,
   "id": "d402b043",
   "metadata": {},
   "outputs": [],
   "source": [
    "import argparse\n",
    "import treegp\n",
    "import numpy as np\n",
    "import pandas as pd\n",
    "import pickle\n",
    "from datetime import datetime\n",
    "from sklearn.gaussian_process.kernels import Kernel\n",
    "import os\n",
    "import treecorr\n",
    "\n",
    "# plotting things\n",
    "import seaborn as sns\n",
    "import matplotlib.pyplot as plt\n",
    "from mpl_toolkits.axes_grid1 import make_axes_locatable\n",
    "import matplotlib.gridspec as gridspec\n",
    "\n",
    "def initSeeds():\n",
    "    seeds = list(range(6,11))+[22,23,25,26,27]+list(range(30,40))\n",
    "    seeds +=list(range(42,54))+list(range(55,61))+list(range(62,90))\n",
    "    seeds += list(range(90,171))\n",
    "    return seeds\n",
    "\n",
    "def comp_2pcf_treecorr(x, y, k, bin_type='TwoD'):\n",
    "    \"\"\"calculate 2pcf for scalar k\"\"\"\n",
    "    cat = treecorr.Catalog(x=x, y=y, k=k, w=None)\n",
    "    kk = treecorr.KKCorrelation(min_sep=0, max_sep=0.15, nbins=17,\n",
    "                                bin_type=bin_type, bin_slop=0)\n",
    "    kk.process(cat)\n",
    "    return kk.xi\n",
    "\n",
    "def raw_moments(im, ordx=1, ordy=1):\n",
    "    \"\"\"calculate raw moment of image\"\"\"\n",
    "    posY, posX = np.indices(im.shape)\n",
    "    posY = np.flipud(posY)\n",
    "    \n",
    "    rmom = sum(sum(im*posX**ordx*posY**ordy))\n",
    "    return rmom\n",
    "\n",
    "def centroids(im):\n",
    "    \"\"\"find the centroids of the image\"\"\"\n",
    "    M10 = raw_moments(im, ordx=1, ordy=0)\n",
    "    M00 = raw_moments(im, ordx=0, ordy=0)\n",
    "    M01 = raw_moments(im, ordx=0, ordy=1)\n",
    "    xbar = M10/M00\n",
    "    ybar = M01/M00\n",
    "    return xbar, ybar\n",
    "\n",
    "def get_theta(g1, g2):\n",
    "    \"\"\"find angle from acrtan2 given x and y\"\"\"\n",
    "    # this give theta in degrees\n",
    "    phi = np.arctan2(g2,g1)*180/np.pi\n",
    "    if g1*g2> 0:\n",
    "        #first, quadrant\n",
    "        if g1 > 0:\n",
    "            phi = phi\n",
    "        #third quadrant\n",
    "        else: \n",
    "            phi = phi+360\n",
    "    # second quadrant\n",
    "    elif g1 < 0 and g2 > 0:\n",
    "        phi = phi\n",
    "    # fouth quadrant\n",
    "    elif g1 > 0 and g2 < 0:\n",
    "        phi = phi+360 \n",
    "    theta = phi/2\n",
    "    return theta\n",
    "\n",
    "def get_orient(im):\n",
    "    \"\"\"calculate angle of image from moments\"\"\"\n",
    "    xbar, ybar = centroids(im)\n",
    "    M20 = raw_moments(im, ordx=2, ordy=0)\n",
    "    M00 = raw_moments(im, ordx=0, ordy=0)\n",
    "    M02 = raw_moments(im, ordx=0, ordy=2)\n",
    "    M11 = raw_moments(im, ordx=1, ordy=1)\n",
    "    \n",
    "    mu20p = M20/M00 - xbar**2\n",
    "    mu02p = M02/M00 - ybar**2\n",
    "    mu11p = M11/M00 - xbar*ybar\n",
    "    \n",
    "    #angle in degrees\n",
    "    theta = get_theta(mu20p-mu02p,2*mu11p)\n",
    "    return theta"
   ]
  },
  {
   "cell_type": "code",
   "execution_count": null,
   "id": "d2371377",
   "metadata": {},
   "outputs": [],
   "source": []
  },
  {
   "cell_type": "code",
   "execution_count": 3,
   "id": "7c86440c",
   "metadata": {},
   "outputs": [
    {
     "data": {
      "text/plain": [
       "Text(0.5, 0.98, '2pcf of e1')"
      ]
     },
     "execution_count": 3,
     "metadata": {},
     "output_type": "execute_result"
    },
    {
     "data": {
      "image/png": "[encoded data removed]",
      "text/plain": [
       "<Figure size 720x360 with 2 Axes>"
      ]
     },
     "metadata": {
      "needs_background": "light"
     },
     "output_type": "display_data"
    }
   ],
   "source": [
    "def comp_2pcf_treecorr(x, y, k, bin_type='TwoD'):\n",
    "    \"\"\"calculate 2pcf for scalar k\"\"\"\n",
    "    cat = treecorr.Catalog(x=x, y=y, k=k, w=None)\n",
    "    kk = treecorr.KKCorrelation(min_sep=0, max_sep=0.15, nbins=17,\n",
    "                                bin_type=bin_type, bin_slop=0)\n",
    "    kk.process(cat)\n",
    "    return kk.xi\n",
    "\n",
    "def circle(im):\n",
    "    R = im.shape[0]/2\n",
    "    posY, posX = np.indices(im.shape)\n",
    "    posX = posX-8\n",
    "    posY = np.flipud(posY)-8\n",
    "    incircle = np.argwhere(np.hypot(posX,posY) > R)\n",
    "    for ind in incircle:\n",
    "        indX = ind[0]\n",
    "        indY = ind[1]\n",
    "        im[indX,indY] = 0\n",
    "    return im\n",
    "plt.rcParams['font.size'] = 17\n",
    "plt.rcParams['axes.labelsize'] = 17\n",
    "# load data\n",
    "d = pickle.load(open(\"..//runsims//sameheightPsfws//outh_psfws_136.pkl\", 'rb'))\n",
    "for k in ['e1', 'e2', 'thx', 'thy', 'sigma']:\n",
    "    locals()[k] = np.array(d[k])\n",
    "d_sigma = sigma - np.mean(sigma)\n",
    "xi_dsigma = comp_2pcf_treecorr(thx, thy, d_sigma)\n",
    "xi_e1 = comp_2pcf_treecorr(thx, thy, e1)\n",
    "xi_e2 = comp_2pcf_treecorr(thx, thy, e2)\n",
    "fig, ax = plt.subplots(1,2,figsize=(10,5))\n",
    "ax0 = ax[0].imshow(xi_e1, cmap=\"BuPu\")\n",
    "ax[0].set_title(\"%.2f degrees\" %get_orient(xi_e1))\n",
    "ax1 = ax[1].imshow(circle(xi_e1), cmap=\"BuPu\")\n",
    "ax[1].set_title(\"%.2f degrees\" %get_orient(circle(xi_e1)))\n",
    "fig.suptitle(\"2pcf of e1\")"
   ]
  },
  {
   "cell_type": "code",
   "execution_count": 26,
   "id": "b8b6befa",
   "metadata": {},
   "outputs": [
    {
     "data": {
      "text/plain": [
       "0.5663374236263761"
      ]
     },
     "execution_count": 26,
     "metadata": {},
     "output_type": "execute_result"
    }
   ],
   "source": [
    "def raw_moments(im, ordx=1, ordy=1):\n",
    "    \"\"\"calculate raw moment of image\"\"\"\n",
    "    posY, posX = np.indices(im.shape)\n",
    "    posY = np.flipud(posY)\n",
    "    \n",
    "    rmom = sum(sum(im*posX**ordx*posY**ordy))\n",
    "    return rmom\n",
    "\n",
    "raw_moments(xi_e1)"
   ]
  },
  {
   "cell_type": "code",
   "execution_count": 27,
   "id": "baeade7e",
   "metadata": {},
   "outputs": [
    {
     "data": {
      "text/plain": [
       "0.002931213416572389"
      ]
     },
     "execution_count": 27,
     "metadata": {},
     "output_type": "execute_result"
    }
   ],
   "source": [
    "def raw_moments(im, ordx=1, ordy=1):\n",
    "    \"\"\"calculate raw moment of image\"\"\"\n",
    "    posY, posX = np.indices(im.shape)\n",
    "    posY = np.flipud(posY)-8\n",
    "    posX = posX-8\n",
    "    \n",
    "    rmom = sum(sum(im*posX**ordx*posY**ordy))\n",
    "    return rmom\n",
    "\n",
    "raw_moments(xi_e1)"
   ]
  },
  {
   "cell_type": "code",
   "execution_count": 25,
   "id": "9889af41",
   "metadata": {},
   "outputs": [],
   "source": [
    "d = pickle.load(open(\"..//runsims//sameheightPsfws//outh_psfws_136.pkl\", 'rb'))\n",
    "for k in ['e1', 'e2', 'thx', 'thy', 'sigma']:\n",
    "    locals()[k] = np.array(d[k])\n",
    "d_sigma = sigma - np.mean(sigma)\n",
    "xi_dsigma = comp_2pcf_treecorr(thx, thy, d_sigma)\n",
    "xi_e1 = comp_2pcf_treecorr(thx, thy, e1)\n",
    "xi_e2 = comp_2pcf_treecorr(thx, thy, e2)\n"
   ]
  },
  {
   "cell_type": "code",
   "execution_count": null,
   "id": "e8b40516",
   "metadata": {},
   "outputs": [],
   "source": []
  }
 ],
 "metadata": {
  "kernelspec": {
   "display_name": "Python 3 (ipykernel)",
   "language": "python",
   "name": "python3"
  },
  "language_info": {
   "codemirror_mode": {
    "name": "ipython",
    "version": 3
   },
   "file_extension": ".py",
   "mimetype": "text/x-python",
   "name": "python",
   "nbconvert_exporter": "python",
   "pygments_lexer": "ipython3",
   "version": "3.10.4"
  }
 },
 "nbformat": 4,
 "nbformat_minor": 5
}
