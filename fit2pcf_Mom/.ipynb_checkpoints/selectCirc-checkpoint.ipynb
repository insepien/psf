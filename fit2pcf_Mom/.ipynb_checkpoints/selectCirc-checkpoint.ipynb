{
 "cells": [
  {
   "cell_type": "code",
   "execution_count": 53,
   "id": "d402b043",
   "metadata": {},
   "outputs": [],
   "source": [
    "import argparse\n",
    "import treegp\n",
    "import numpy as np\n",
    "import pandas as pd\n",
    "import pickle\n",
    "from datetime import datetime\n",
    "from sklearn.gaussian_process.kernels import Kernel\n",
    "import os\n",
    "import treecorr\n",
    "\n",
    "# plotting things\n",
    "import seaborn as sns\n",
    "import matplotlib.pyplot as plt\n",
    "from mpl_toolkits.axes_grid1 import make_axes_locatable\n",
    "import matplotlib.gridspec as gridspec\n",
    "\n",
    "def comp_2pcf_treecorr(x, y, k, bin_type='TwoD'):\n",
    "    \"\"\"calculate 2pcf for scalar k\"\"\"\n",
    "    cat = treecorr.Catalog(x=x, y=y, k=k, w=None)\n",
    "    kk = treecorr.KKCorrelation(min_sep=0, max_sep=0.15, nbins=17,\n",
    "                                bin_type=bin_type, bin_slop=0)\n",
    "    kk.process(cat)\n",
    "    return kk.xi\n",
    "\n",
    "def get_circ_data(thx, thy, R, d_sigma, e1, e2):\n",
    "    \"\"\"Cut out data within a circle of radius R\"\"\"\n",
    "    # coordinate array\n",
    "    coords = np.array([thx, thy]).T\n",
    "    \n",
    "    # init list for circle data\n",
    "    coords_circ = []\n",
    "    d_sigmaC = []\n",
    "    e1C = []\n",
    "    e2C = []\n",
    "    \n",
    "    # looping to get dsigma, e1, e2 values where thx^2 + thy^2 < radius. (origin is at (thx,thy) = (0,0))\n",
    "    for i in range(len(coords)):\n",
    "        if coords[i][0]**2 + coords[i][1]**2 < R**2:\n",
    "            coords_circ.append(coords[i])\n",
    "            d_sigmaC.append(d_sigma[i])\n",
    "            e1C.append(e1[i])\n",
    "            e2C.append(e2[i])\n",
    "            \n",
    "    # returning coordinates of the circle\n",
    "    thx = np.array(coords_circ)[:,0]\n",
    "    thy = np.array(coords_circ)[:,1]\n",
    "    \n",
    "    return thx, thy, d_sigmaC, e1C, e2C\n"
   ]
  },
  {
   "cell_type": "code",
   "execution_count": 60,
   "id": "7c86440c",
   "metadata": {},
   "outputs": [
    {
     "data": {
      "text/plain": [
       "<matplotlib.image.AxesImage at 0x7f5055b23a60>"
      ]
     },
     "execution_count": 60,
     "metadata": {},
     "output_type": "execute_result"
    },
    {
     "data": {
      "image/png": "[encoded data removed]",
      "text/plain": [
       "<Figure size 432x288 with 1 Axes>"
      ]
     },
     "metadata": {
      "needs_background": "light"
     },
     "output_type": "display_data"
    }
   ],
   "source": [
    "s = 100\n",
    "path = \"~//psf//runsims//sameheightPsfws//outh_psfws_100.pkl\"\n",
    "\n",
    "kplist_dict = {psf_par: {'k': [], 'sigp': [], 'sigm': [],\n",
    "                         'g1': [], 'g2': [], 'amp':[], 'resid':[]}\n",
    "               for psf_par in ['e1', 'e2', 'sigma']}\n",
    "kplist_dict['seed'] = [s]\n",
    "\n",
    "# load data\n",
    "d = pickle.load(open(\"..//runsims//sameheightPsfws//outh_psfws_100.pkl\", 'rb'))\n",
    "for k in ['e1', 'e2', 'thx', 'thy', 'sigma']:\n",
    "    locals()[k] = np.array(d[k])\n",
    "d_sigma = sigma - np.mean(sigma)\n",
    "xi_dsigma = comp_2pcf_treecorr(thx, thy, d_sigma)\n",
    "xi_e1 = comp_2pcf_treecorr(thx, thy, e1)\n",
    "xi_e2 = comp_2pcf_treecorr(thx, thy, e2)\n",
    "thx, thy = np.arange(-8,9), np.arange(-8,9)\n",
    "thx, thy, xi_sigma, xi_e1, xi_e2 = get_circ_data(thx, thy, 2, xi_dsigma,\\\n",
    "                                                             xi_e1, xi_e2)\n",
    "plt.imshow(xi_e1)"
   ]
  },
  {
   "cell_type": "code",
   "execution_count": 52,
   "id": "01246097",
   "metadata": {},
   "outputs": [
    {
     "data": {
      "text/plain": [
       "<matplotlib.image.AxesImage at 0x7f5060a89a20>"
      ]
     },
     "execution_count": 52,
     "metadata": {},
     "output_type": "execute_result"
    },
    {
     "data": {
      "image/png": "[encoded data removed]",
      "text/plain": [
       "<Figure size 432x288 with 1 Axes>"
      ]
     },
     "metadata": {
      "needs_background": "light"
     },
     "output_type": "display_data"
    }
   ],
   "source": [
    "plt.imshow(xiSigma)"
   ]
  },
  {
   "cell_type": "code",
   "execution_count": 48,
   "id": "595383cb",
   "metadata": {},
   "outputs": [
    {
     "data": {
      "text/plain": [
       "5.2229283828688895e-05"
      ]
     },
     "execution_count": 48,
     "metadata": {},
     "output_type": "execute_result"
    }
   ],
   "source": [
    "xiSigma[7,8]"
   ]
  },
  {
   "cell_type": "code",
   "execution_count": null,
   "id": "5deb6ee3",
   "metadata": {},
   "outputs": [],
   "source": []
  }
 ],
 "metadata": {
  "kernelspec": {
   "display_name": "Python 3 (ipykernel)",
   "language": "python",
   "name": "python3"
  },
  "language_info": {
   "codemirror_mode": {
    "name": "ipython",
    "version": 3
   },
   "file_extension": ".py",
   "mimetype": "text/x-python",
   "name": "python",
   "nbconvert_exporter": "python",
   "pygments_lexer": "ipython3",
   "version": "3.10.4"
  }
 },
 "nbformat": 4,
 "nbformat_minor": 5
}
