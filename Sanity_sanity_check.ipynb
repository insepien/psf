{
 "cells": [
  {
   "cell_type": "code",
   "execution_count": 1,
   "id": "bff930a6",
   "metadata": {},
   "outputs": [],
   "source": [
    "import psfws\n",
    "import pickle\n",
    "import numpy as np\n",
    "import treecorr\n",
    "import matplotlib.pyplot as plt\n",
    "import seaborn as sns\n",
    "from mpl_toolkits.axes_grid1 import make_axes_locatable\n",
    "import treecorr\n",
    "import pandas as pd\n",
    "import galsim"
   ]
  },
  {
   "cell_type": "code",
   "execution_count": 4,
   "id": "e4344e63",
   "metadata": {},
   "outputs": [],
   "source": [
    "data = pickle.load(open(\"outRand/out_rand_10.pkl\", 'rb'))\n",
    "(thx, thy, seed, x, y, sigma, e1, e2, arguments, atmSummary, atmKwargs) = tuple(data.values())"
   ]
  },
  {
   "cell_type": "code",
   "execution_count": 7,
   "id": "2a6efe31",
   "metadata": {},
   "outputs": [
    {
     "data": {
      "text/plain": [
       "{'filterName': 'z',\n",
       " 'airmass': 1,\n",
       " 'rawSeeing': 0.6631422328297049,\n",
       " 'wavelength': 868.21,\n",
       " 'targetFWHM': 0.561966275223824,\n",
       " 'L0': 38.71293850970474,\n",
       " 'r0_500': 0.1281211493754563}"
      ]
     },
     "execution_count": 7,
     "metadata": {},
     "output_type": "execute_result"
    }
   ],
   "source": [
    "atmSummary"
   ]
  },
  {
   "cell_type": "code",
   "execution_count": 8,
   "id": "f438ac4f",
   "metadata": {},
   "outputs": [],
   "source": [
    "data = pickle.load(open(\"outPsfws/out_psfws_10.pkl\", 'rb'))\n",
    "(thx, thy, seed, x, y, sigma, e1, e2, arguments, atmSummary, atmKwargs) = tuple(data.values())"
   ]
  },
  {
   "cell_type": "code",
   "execution_count": 9,
   "id": "0f27031d",
   "metadata": {},
   "outputs": [
    {
     "data": {
      "text/plain": [
       "{'filterName': 'z',\n",
       " 'airmass': 1,\n",
       " 'rawSeeing': 0.6631422328297049,\n",
       " 'wavelength': 868.21,\n",
       " 'targetFWHM': 0.561966275223824,\n",
       " 'L0': 38.71293850970474,\n",
       " 'r0_500': 0.1281211493754563}"
      ]
     },
     "execution_count": 9,
     "metadata": {},
     "output_type": "execute_result"
    }
   ],
   "source": [
    "atmSummary"
   ]
  },
  {
   "cell_type": "code",
   "execution_count": 10,
   "id": "c20b2aec",
   "metadata": {},
   "outputs": [],
   "source": [
    "data = pickle.load(open(\"heightRand/outh_rand_10.pkl\", 'rb'))\n",
    "(thx, thy, seed, x, y, sigma, e1, e2, arguments, atmSummary, atmKwargs) = tuple(data.values())"
   ]
  },
  {
   "cell_type": "code",
   "execution_count": 11,
   "id": "826f57a7",
   "metadata": {},
   "outputs": [
    {
     "data": {
      "text/plain": [
       "{'filterName': 'z',\n",
       " 'airmass': 1,\n",
       " 'rawSeeing': 0.6631422328297049,\n",
       " 'wavelength': 868.21,\n",
       " 'targetFWHM': 0.561966275223824,\n",
       " 'L0': 38.71293850970474,\n",
       " 'r0_500': 0.1281211493754563}"
      ]
     },
     "execution_count": 11,
     "metadata": {},
     "output_type": "execute_result"
    }
   ],
   "source": [
    "atmSummary"
   ]
  },
  {
   "cell_type": "code",
   "execution_count": 13,
   "id": "94988acc",
   "metadata": {},
   "outputs": [],
   "source": [
    "data = pickle.load(open(\"heightPsfws/outh_psfws_10.pkl\", 'rb'))\n",
    "(thx, thy, seed, x, y, sigma, e1, e2, arguments, atmSummary, atmKwargs) = tuple(data.values())"
   ]
  },
  {
   "cell_type": "code",
   "execution_count": 14,
   "id": "56ef40d4",
   "metadata": {},
   "outputs": [
    {
     "data": {
      "text/plain": [
       "{'filterName': 'z',\n",
       " 'airmass': 1,\n",
       " 'rawSeeing': 0.6631422328297049,\n",
       " 'wavelength': 868.21,\n",
       " 'targetFWHM': 0.561966275223824,\n",
       " 'L0': 38.71293850970474,\n",
       " 'r0_500': 0.1281211493754563}"
      ]
     },
     "execution_count": 14,
     "metadata": {},
     "output_type": "execute_result"
    }
   ],
   "source": [
    "atmSummary"
   ]
  },
  {
   "cell_type": "code",
   "execution_count": null,
   "id": "35bfdfc2",
   "metadata": {},
   "outputs": [],
   "source": []
  }
 ],
 "metadata": {
  "kernelspec": {
   "display_name": "Python 3 (ipykernel)",
   "language": "python",
   "name": "python3"
  },
  "language_info": {
   "codemirror_mode": {
    "name": "ipython",
    "version": 3
   },
   "file_extension": ".py",
   "mimetype": "text/x-python",
   "name": "python",
   "nbconvert_exporter": "python",
   "pygments_lexer": "ipython3",
   "version": "3.10.4"
  }
 },
 "nbformat": 4,
 "nbformat_minor": 5
}
