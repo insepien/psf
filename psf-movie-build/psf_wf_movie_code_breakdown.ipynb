{
 "cells": [
  {
   "cell_type": "code",
   "execution_count": 1,
   "id": "58de88ec",
   "metadata": {},
   "outputs": [],
   "source": [
    "import galsim\n",
    "import numpy as np\n",
    "from matplotlib.figure import Figure\n",
    "from matplotlib.backends.backend_agg import FigureCanvasAgg\n",
    "import matplotlib.animation as anim\n",
    "from astropy.utils.console import ProgressBar\n",
    "import warnings"
   ]
  },
  {
   "cell_type": "code",
   "execution_count": 2,
   "id": "07ec67d8",
   "metadata": {},
   "outputs": [],
   "source": [
    "seed = 1\n",
    "argr0_500 = 0.2 #fried parameter at 500nm \n",
    "nlayers = 6 #num atmospheric layer\n",
    "time_step = 0.03 #increment time steps for advancing phase screens\n",
    "exptime = 3 # total time to integrate\n",
    "screen_size = 102.4 #size of atmospheric screen\n",
    "screen_scale = 0.1 #reso of atmospheric screen\n",
    "max_speed = 20 #max wind speed\n",
    "x = 0 #x coor of psf\n",
    "y = 0 #y coor of psf\n",
    "lam = 700 #wavelen\n",
    "diam =4.0 #size of telescope pupil\n",
    "obscuration = 0 #linear fractional obscration of the pupil\n",
    "nstruts = 0 #num strurts supporting secondary obscruration\n",
    "strut_thick = 0.05 #thickness of struts as fraction of aperture diam\n",
    "strut_angle = 0 #starting angle of 1st strut\n",
    "psf_nx = 512 #output psf image dimension\n",
    "psf_scale = 0.005 # scale of psf output in ''\n",
    "accumulate = False\n",
    "pad_factor = 1 #factor to pad psf interpolating image to avoid aliasing\n",
    "oversampling = 1 #factor to oversample psf interpolated image\n",
    "psf_vmax = 0.0003 #vmax kwarg for psf image\n",
    "wf_vmax = 50 #vmax kwarg for wavefront image\n",
    "outfile = \"psf_wf_movie.mp4\"\n",
    "\n"
   ]
  },
  {
   "cell_type": "code",
   "execution_count": 3,
   "id": "c8da84a8",
   "metadata": {},
   "outputs": [],
   "source": [
    "#initiate random num\n",
    "rng = galsim.BaseDeviate(seed)\n",
    "u = galsim.UniformDeviate(rng)"
   ]
  },
  {
   "cell_type": "markdown",
   "id": "746d8260",
   "metadata": {},
   "source": [
    "settin up altitudes and weights for each screen, with turbulence being larger at lower layers"
   ]
  },
  {
   "cell_type": "code",
   "execution_count": 4,
   "id": "bdf8df4e",
   "metadata": {},
   "outputs": [],
   "source": [
    "Ellerbroek_alts = [0.0, 2.58, 5.16, 7.73, 12.89, 15.46]  # km\n",
    "Ellerbroek_weights = [0.652, 0.172, 0.055, 0.025, 0.074, 0.022]\n",
    "#create table of alt-weights\n",
    "Ellerbroek_interp = galsim.LookupTable(Ellerbroek_alts, Ellerbroek_weights,interpolant='linear')\n",
    "#create altitude with chosen num of layers\n",
    "alts = np.max(Ellerbroek_alts)*np.arange(nlayers)/(nlayers-1)\n",
    "#find corresponding weights from table\n",
    "weights = Ellerbroek_interp(alts)  # interpolate the weights\n",
    "weights /= sum(weights)  # and renormalize"
   ]
  },
  {
   "cell_type": "markdown",
   "id": "17177643",
   "metadata": {},
   "source": [
    "define the wind speed, direction, turbulence strength for each screen"
   ]
  },
  {
   "cell_type": "code",
   "execution_count": 6,
   "id": "2ec4f0cf",
   "metadata": {},
   "outputs": [
    {
     "name": "stdout",
     "output_type": "stream",
     "text": [
      "Adding layer at altitude  0.00 km with velocity ( 0.08, -4.13) m/s, and r0_500 0.255 m.\n",
      "Adding layer at altitude  3.09 km with velocity ( 6.61, -6.62) m/s, and r0_500 0.618 m.\n",
      "Adding layer at altitude  6.18 km with velocity ( 0.86, 16.40) m/s, and r0_500 1.300 m.\n",
      "Adding layer at altitude  9.28 km with velocity ( 0.28,  1.58) m/s, and r0_500 1.365 m.\n",
      "Adding layer at altitude 12.37 km with velocity (10.01,  9.02) m/s, and r0_500 0.979 m.\n",
      "Adding layer at altitude 15.46 km with velocity (-8.78, -16.90) m/s, and r0_500 1.945 m.\n"
     ]
    }
   ],
   "source": [
    "spd = []  # Wind speed in m/s\n",
    "dirn = [] # Wind direction in radians\n",
    "r0_500 = [] # Fried parameter in m at a wavelength of 500 nm\n",
    "for i in range(nlayers):\n",
    "    spd.append(u()*max_speed) \n",
    "    dirn.append(u()*360*galsim.degrees) \n",
    "    r0_500.append(argr0_500*weights[i]**(-3./5))\n",
    "    print(\"Adding layer at altitude {:5.2f} km with velocity ({:5.2f}, {:5.2f}) m/s, \"\n",
    "          \"and r0_500 {:5.3f} m.\"\n",
    "          .format(alts[i], spd[i]*dirn[i].cos(), spd[i]*dirn[i].sin(), r0_500[i]))\n"
   ]
  },
  {
   "cell_type": "markdown",
   "id": "f0e0d02e",
   "metadata": {},
   "source": [
    "# creates an atmosphere with the layers above?"
   ]
  },
  {
   "cell_type": "code",
   "execution_count": 7,
   "id": "40d09247",
   "metadata": {},
   "outputs": [],
   "source": [
    "atm = galsim.Atmosphere(r0_500=r0_500, speed=spd, direction=dirn, altitude=alts, rng=rng,\n",
    "                            screen_size=screen_size, screen_scale=screen_scale)"
   ]
  },
  {
   "cell_type": "code",
   "execution_count": 8,
   "id": "a1377139",
   "metadata": {},
   "outputs": [],
   "source": [
    "#store image\n",
    "psf_img_sum = galsim.ImageD(psf_nx, psf_nx, scale=psf_scale)\n",
    "#field angle at which to compute psf\n",
    "theta = (x*galsim.arcmin, y*galsim.arcmin)\n",
    "#aperture of pupil\n",
    "aper = galsim.Aperture(diam=diam, lam=lam, obscuration=obscuration,\n",
    "                           nstruts=nstruts, strut_thick=strut_thick,\n",
    "                           strut_angle=strut_angle*galsim.degrees,\n",
    "                           screen_list=atm, pad_factor=pad_factor,\n",
    "                           oversampling=oversampling)"
   ]
  },
  {
   "cell_type": "markdown",
   "id": "67f4141b",
   "metadata": {},
   "source": [
    "## creating frames"
   ]
  },
  {
   "cell_type": "code",
   "execution_count": 65,
   "id": "44b8ca9d",
   "metadata": {},
   "outputs": [
    {
     "data": {
      "text/plain": [
       "<matplotlib.backends.backend_agg.FigureCanvasAgg at 0x7f5fe08cf820>"
      ]
     },
     "execution_count": 65,
     "metadata": {},
     "output_type": "execute_result"
    },
    {
     "data": {
      "image/png": "[encoded data removed]",
      "text/plain": [
       "<Figure size 1080x324 with 3 Axes>"
      ]
     },
     "metadata": {
      "needs_background": "light"
     },
     "output_type": "display_data"
    }
   ],
   "source": [
    "#set up matplotlib animation\n",
    "import matplotlib.pyplot as plt\n",
    "metadata = dict(title='Wavefront Movie', artist='Matplotlib')\n",
    "writer = anim.FFMpegWriter(fps=15, bitrate=5000, metadata=metadata)\n",
    "fig, (psf1,wf,psf2) = plt.subplots(nrows=1,ncols=3, figsize=(15, 4.5))\n",
    "FigureCanvasAgg(fig)"
   ]
  },
  {
   "cell_type": "code",
   "execution_count": 10,
   "id": "f4c3061d",
   "metadata": {},
   "outputs": [
    {
     "name": "stderr",
     "output_type": "stream",
     "text": [
      "/tmp/ipykernel_185/2881114529.py:13: UserWarning: Matplotlib is currently using module://matplotlib_inline.backend_inline, which is a non-GUI backend, so cannot show the figure.\n",
      "  fig.show()\n"
     ]
    },
    {
     "data": {
      "text/plain": [
       "<Figure size 1100x600 with 0 Axes>"
      ]
     },
     "metadata": {},
     "output_type": "display_data"
    }
   ],
   "source": [
    "####################code to show figure##################################\n",
    "import matplotlib.pyplot as plt\n",
    "def show_figure(fig):\n",
    "\n",
    "    # create a dummy figure and use its\n",
    "    # manager to display \"fig\"  \n",
    "    dummy = plt.figure()\n",
    "    new_manager = dummy.canvas.manager\n",
    "    new_manager.canvas.figure = fig\n",
    "    fig.set_canvas(new_manager.canvas)\n",
    "    \n",
    "show_figure(fig)\n",
    "fig.show()"
   ]
  },
  {
   "cell_type": "code",
   "execution_count": 62,
   "id": "d90ffa2a",
   "metadata": {},
   "outputs": [],
   "source": [
    "# Axis for the PSF image on the left.\n",
    "\n",
    "psf1.set_xlabel(\"Arcsec\")\n",
    "psf1.set_ylabel(\"Arcsec\")\n",
    "psf_im = psf1.imshow(np.ones((128, 128), dtype=np.float64), animated=True,\n",
    "               vmin=0.0, vmax=psf_vmax, cmap='hot',\n",
    "               extent=np.r_[-1, 1, -1, 1]*0.5*psf_nx*psf_scale)"
   ]
  },
  {
   "cell_type": "code",
   "execution_count": 49,
   "id": "f384a79d",
   "metadata": {},
   "outputs": [
    {
     "name": "stderr",
     "output_type": "stream",
     "text": [
      "/tmp/ipykernel_185/2881114529.py:13: UserWarning: Matplotlib is currently using module://matplotlib_inline.backend_inline, which is a non-GUI backend, so cannot show the figure.\n",
      "  fig.show()\n"
     ]
    },
    {
     "data": {
      "image/png": "[encoded data removed]",
      "text/plain": [
       "<Figure size 1080x324 with 3 Axes>"
      ]
     },
     "metadata": {
      "needs_background": "light"
     },
     "output_type": "display_data"
    }
   ],
   "source": [
    "######################################################\n",
    "show_figure(fig)\n",
    "fig.show()"
   ]
  },
  {
   "cell_type": "code",
   "execution_count": 63,
   "id": "76e6bd4a",
   "metadata": {},
   "outputs": [
    {
     "name": "stderr",
     "output_type": "stream",
     "text": [
      "/tmp/ipykernel_185/2627892693.py:9: MatplotlibDeprecationWarning: Starting from Matplotlib 3.6, colorbar() will steal space from the mappable's axes, rather than from the current axes, to place the colorbar.  To silence this warning, explicitly pass the 'ax' argument to colorbar().\n",
      "  fig.colorbar(wf_im,location=\"bottom\")\n"
     ]
    },
    {
     "data": {
      "text/plain": [
       "<matplotlib.colorbar.Colorbar at 0x7f5fe06ef850>"
      ]
     },
     "execution_count": 63,
     "metadata": {},
     "output_type": "execute_result"
    }
   ],
   "source": [
    "# Axis for the wavefront image on the right.\n",
    "wf.set_xlabel(\"Meters\")\n",
    "wf.set_ylabel(\"Meters\")\n",
    "wf_im = wf.imshow(np.ones((128, 128), dtype=np.float64), animated=True,\n",
    "                     vmin=-wf_vmax, vmax=wf_vmax, cmap='YlGnBu',\n",
    "                     extent=np.r_[-1, 1, -1, 1]*0.5*aper.pupil_plane_size)\n",
    "#cbar_ax = fig.add_axes([0.88, 0.175, 0.03, 0.65])\n",
    "#cbar_ax.set_ylabel(\"Radians\")\n",
    "fig.colorbar(wf_im,location=\"bottom\")"
   ]
  },
  {
   "cell_type": "code",
   "execution_count": 83,
   "id": "dfbb552b",
   "metadata": {},
   "outputs": [
    {
     "data": {
      "text/plain": [
       "<matplotlib.colorbar.Colorbar at 0x7f5fdea78310>"
      ]
     },
     "execution_count": 83,
     "metadata": {},
     "output_type": "execute_result"
    },
    {
     "data": {
      "image/png": "[encoded data removed]",
      "text/plain": [
       "<Figure size 1080x324 with 4 Axes>"
      ]
     },
     "metadata": {
      "needs_background": "light"
     },
     "output_type": "display_data"
    }
   ],
   "source": [
    "######################################################\n",
    "#set up matplotlib animation\n",
    "import matplotlib.pyplot as plt\n",
    "from mpl_toolkits.axes_grid1 import make_axes_locatable\n",
    "\n",
    "metadata = dict(title='Wavefront Movie', artist='Matplotlib')\n",
    "writer = anim.FFMpegWriter(fps=15, bitrate=5000, metadata=metadata)\n",
    "fig, (psf1,wf,psf2) = plt.subplots(nrows=1,ncols=3, figsize=(15, 4.5))\n",
    "FigureCanvasAgg(fig)\n",
    "\n",
    "# Axis for the PSF image on the left.\n",
    "\n",
    "psf1.set_xlabel(\"Arcsec\")\n",
    "psf1.set_ylabel(\"Arcsec\")\n",
    "psf_im = psf1.imshow(np.ones((128, 128), dtype=np.float64), animated=True,\n",
    "               vmin=0.0, vmax=psf_vmax, cmap='hot',\n",
    "               extent=np.r_[-1, 1, -1, 1]*0.5*psf_nx*psf_scale)\n",
    "\n",
    "# Axis for the wavefront image on the right.\n",
    "wf.set_xlabel(\"Meters\")\n",
    "wf.set_ylabel(\"Meters\")\n",
    "wf_im = wf.imshow(np.ones((128, 128), dtype=np.float64), animated=True,\n",
    "                     vmin=-wf_vmax, vmax=wf_vmax, cmap='YlGnBu',\n",
    "                     extent=np.r_[-1, 1, -1, 1]*0.5*aper.pupil_plane_size)\n",
    "\n",
    "divider = make_axes_locatable(wf)\n",
    "cax = divider.append_axes('right', size='5%', pad=0.05)\n",
    "fig.colorbar(wf_im, cax=cax, orientation='vertical')"
   ]
  },
  {
   "cell_type": "markdown",
   "id": "b05a5783",
   "metadata": {},
   "source": [
    "# making 3rd frame"
   ]
  },
  {
   "cell_type": "code",
   "execution_count": 15,
   "id": "78e9ee48",
   "metadata": {},
   "outputs": [
    {
     "name": "stderr",
     "output_type": "stream",
     "text": [
      "/tmp/ipykernel_185/2375427634.py:49: UserWarning: Matplotlib is currently using module://matplotlib_inline.backend_inline, which is a non-GUI backend, so cannot show the figure.\n",
      "  fig.show()\n"
     ]
    },
    {
     "data": {
      "image/png": "[encoded data removed]",
      "text/plain": [
       "<Figure size 792x432 with 4 Axes>"
      ]
     },
     "metadata": {},
     "output_type": "display_data"
    }
   ],
   "source": [
    "######################################################\n",
    "# make fig object\n",
    "metadata = dict(title='Wavefront Movie', artist='Matplotlib')\n",
    "writer = anim.FFMpegWriter(fps=15, bitrate=5000, metadata=metadata)\n",
    "fig = Figure(facecolor='k', figsize=(11, 6))\n",
    "FigureCanvasAgg(fig)\n",
    "\n",
    "#FIRST FRAME\n",
    "psf_ax = fig.add_axes([0.08, 0.15, 0.35, 0.7]) # [left, bottom, width, height] \n",
    "psf_ax.set_xlabel(\"Arcsec\")\n",
    "psf_ax.set_ylabel(\"Arcsec\")\n",
    "psf_im = psf_ax.imshow(np.ones((128, 128), dtype=np.float64), animated=True,\n",
    "               vmin=0.0, vmax=psf_vmax, cmap='hot',\n",
    "               extent=np.r_[-1, 1, -1, 1]*0.5*psf_nx*psf_scale)\n",
    "\n",
    "#SECOND FRAME\n",
    "wf_ax = fig.add_axes([0.51, 0.15, 0.35, 0.7])\n",
    "wf_ax.set_xlabel(\"Meters\")\n",
    "wf_ax.set_ylabel(\"Meters\")\n",
    "wf_im = wf_ax.imshow(np.ones((128, 128), dtype=np.float64), animated=True,\n",
    "                     vmin=-wf_vmax, vmax=wf_vmax, cmap='YlGnBu',\n",
    "                     extent=np.r_[-1, 1, -1, 1]*0.5*aper.pupil_plane_size)\n",
    "cbar_ax = fig.add_axes([0.88, 0.175, 0.03, 0.65])\n",
    "cbar_ax.set_ylabel(\"Radians\")\n",
    "fig.colorbar(wf_im, cax=cbar_ax)\n",
    "\n",
    "#THIRD FRAME\n",
    "\"\"\"\n",
    "wf_ax = fig.add_axes([0.51+0.14+0.35, 0.15, 0.35, 0.7])\n",
    "wf_ax.set_xlabel(\"Meters\")\n",
    "wf_ax.set_ylabel(\"Meters\")\n",
    "\n",
    "wf_im = wf_ax.imshow(np.ones((128, 128), dtype=np.float64), animated=True,\n",
    "                     vmin=-wf_vmax, vmax=wf_vmax, cmap='YlGnBu',\n",
    "                     extent=np.r_[-1, 1, -1, 1]*0.5*aper.pupil_plane_size)\n",
    "cbar_ax = fig.add_axes([0.51+0.08+0.7+0.08+0.02, 0.175, 0.03, 0.65])\n",
    "cbar_ax.set_ylabel(\"Radians\")\n",
    "fig.colorbar(wf_im, cax=cbar_ax)\n",
    "\"\"\"\n",
    "\n",
    "psfint_ax = fig.add_axes([0.51+0.14+0.35, 0.15, 0.35, 0.7]) \n",
    "psfint_ax.set_xlabel(\"Arcsec\")\n",
    "psfint_ax.set_ylabel(\"Arcsec\")\n",
    "psfint_im = psfint_ax.imshow(np.ones((128, 128), dtype=np.float64), animated=True,\n",
    "               vmin=0.0, vmax=psf_vmax, cmap='hot',\n",
    "               extent=np.r_[-1, 1, -1, 1]*0.5*psf_nx*psf_scale)\n",
    "\n",
    "show_figure(fig)\n",
    "fig.show()"
   ]
  },
  {
   "cell_type": "code",
   "execution_count": 16,
   "id": "ddc807be",
   "metadata": {},
   "outputs": [
    {
     "name": "stderr",
     "output_type": "stream",
     "text": [
      "/tmp/ipykernel_185/262698001.py:5: UserWarning: Matplotlib is currently using module://matplotlib_inline.backend_inline, which is a non-GUI backend, so cannot show the figure.\n",
      "  fig.show()\n"
     ]
    },
    {
     "data": {
      "image/png": "[encoded data removed]",
      "text/plain": [
       "<Figure size 792x432 with 4 Axes>"
      ]
     },
     "metadata": {},
     "output_type": "display_data"
    }
   ],
   "source": [
    "# Overlay an alpha-mask on the wavefront image showing which parts are actually illuminated.\n",
    "ilum = np.ma.masked_greater(aper.illuminated, 0.5)\n",
    "wf_ax.imshow(ilum, alpha=0.4, extent=np.r_[-1, 1, -1, 1]*0.5*aper.pupil_plane_size)\n",
    "show_figure(fig)\n",
    "fig.show()"
   ]
  },
  {
   "cell_type": "code",
   "execution_count": 17,
   "id": "e3522b85",
   "metadata": {},
   "outputs": [
    {
     "name": "stderr",
     "output_type": "stream",
     "text": [
      "/tmp/ipykernel_185/3113706317.py:10: UserWarning: Matplotlib is currently using module://matplotlib_inline.backend_inline, which is a non-GUI backend, so cannot show the figure.\n",
      "  fig.show()\n"
     ]
    },
    {
     "data": {
      "image/png": "[encoded data removed]",
      "text/plain": [
       "<Figure size 792x432 with 4 Axes>"
      ]
     },
     "metadata": {},
     "output_type": "display_data"
    }
   ],
   "source": [
    "# Color items white to show up on black background\n",
    "for ax in [psf_ax, wf_ax, cbar_ax]:\n",
    "    for _, spine in ax.spines.items():\n",
    "        spine.set_color('w')\n",
    "    ax.title.set_color('w')\n",
    "    ax.xaxis.label.set_color('w')\n",
    "    ax.yaxis.label.set_color('w')\n",
    "    ax.tick_params(axis='both', colors='w')\n",
    "show_figure(fig)\n",
    "fig.show()"
   ]
  },
  {
   "cell_type": "code",
   "execution_count": 18,
   "id": "77b9ccd2",
   "metadata": {},
   "outputs": [],
   "source": [
    "etext = psf_ax.text(0.05, 0.92, '', transform=psf_ax.transAxes)\n",
    "etext.set_color('w')\n",
    "\n",
    "nstep = int(exptime / time_step)\n",
    "t0 = 0.0\n"
   ]
  },
  {
   "cell_type": "code",
   "execution_count": 19,
   "id": "03867fc3",
   "metadata": {},
   "outputs": [],
   "source": [
    "with ProgressBar(nstep) as bar:\n",
    "    with writer.saving(fig, outfile, 100):\n",
    "        for i in range(nstep):\n",
    "            wf = atm.wavefront(aper.u, aper.v, t0, theta=theta) * 2*np.pi/lam  # radians\n",
    "            psf = atm.makePSF(lam=lam, theta=theta, aper=aper,\n",
    "                              t0=t0, exptime=time_step)\n",
    "            psf_img0 = psf.drawImage(nx=psf_nx, ny=psf_nx, scale=psf_scale)\n",
    "\n",
    "            if accumulate:\n",
    "                psf_img_sum += psf_img0\n",
    "                psf_img = psf_img_sum/(i+1)\n",
    "            else:\n",
    "                psf_img = psf_img0\n",
    "\n",
    "            # Calculate simple estimate of size and ellipticity\n",
    "            e = galsim.utilities.unweighted_shape(psf_img)\n",
    "\n",
    "            # Update t0 for the next movie frame.\n",
    "            t0 += time_step\n",
    "\n",
    "            # Matplotlib code updating plot elements\n",
    "            wf_im.set_array(wf)\n",
    "            wf_ax.set_title(\"t={:5.2f} s\".format(i*time_step))\n",
    "            psf_im.set_array(psf_img.array)\n",
    "            etext.set_text(\"$e_1$={:6.3f}, $e_2$={:6.3f}, $r^2$={:6.3f}\".format(\n",
    "                    e['e1'], e['e2'], e['rsqr']*psf_scale**2))\n",
    "            with warnings.catch_warnings():\n",
    "                warnings.simplefilter(\"ignore\")\n",
    "                writer.grab_frame(facecolor=fig.get_facecolor())\n",
    "            bar.update()"
   ]
  },
  {
   "cell_type": "code",
   "execution_count": 20,
   "id": "bdbed185",
   "metadata": {},
   "outputs": [],
   "source": [
    "for i in range(nstep):\n",
    "    wf = atm.wavefront(aper.u, aper.v, t0, theta=theta) * 2*np.pi/lam  # radians\n",
    "    psf = atm.makePSF(lam=lam, theta=theta, aper=aper,\n",
    "                      t0=t0, exptime=time_step)\n",
    "    psf_img0 = psf.drawImage(nx=psf_nx, ny=psf_nx, scale=psf_scale)\n",
    "\n",
    "    if accumulate:\n",
    "        psf_img_sum += psf_img0\n",
    "        psf_img = psf_img_sum/(i+1)\n",
    "    else:\n",
    "        psf_img = psf_img0"
   ]
  },
  {
   "cell_type": "code",
   "execution_count": 21,
   "id": "6a018b36",
   "metadata": {},
   "outputs": [
    {
     "data": {
      "text/plain": [
       "array([[ -2.54707384,  -2.679277  ,  -2.6164747 , ..., -20.02206793,\n",
       "        -20.04430283, -20.06661072],\n",
       "       [ -2.57499903,  -2.72213696,  -2.66560727, ..., -20.0777617 ,\n",
       "        -20.10356981, -20.1287933 ],\n",
       "       [ -2.68069644,  -2.82342038,  -2.7466187 , ..., -20.17659175,\n",
       "        -20.22913045, -20.2782977 ],\n",
       "       ...,\n",
       "       [ -3.37735316,  -3.57263535,  -3.62848987, ...,  -9.93333468,\n",
       "        -10.09455156, -10.25323071],\n",
       "       [ -3.16566747,  -3.37721572,  -3.39923704, ..., -10.28325489,\n",
       "        -10.41848225, -10.55114179],\n",
       "       [ -2.96905979,  -3.19615052,  -3.18197959, ..., -10.6333952 ,\n",
       "        -10.74780122, -10.85960936]])"
      ]
     },
     "execution_count": 21,
     "metadata": {},
     "output_type": "execute_result"
    }
   ],
   "source": [
    "wf"
   ]
  },
  {
   "cell_type": "code",
   "execution_count": null,
   "id": "0bc3dc83",
   "metadata": {},
   "outputs": [],
   "source": []
  }
 ],
 "metadata": {
  "kernelspec": {
   "display_name": "Python 3 (ipykernel)",
   "language": "python",
   "name": "python3"
  },
  "language_info": {
   "codemirror_mode": {
    "name": "ipython",
    "version": 3
   },
   "file_extension": ".py",
   "mimetype": "text/x-python",
   "name": "python",
   "nbconvert_exporter": "python",
   "pygments_lexer": "ipython3",
   "version": "3.10.4"
  }
 },
 "nbformat": 4,
 "nbformat_minor": 5
}
